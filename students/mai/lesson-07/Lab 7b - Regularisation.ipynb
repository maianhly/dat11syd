{
 "cells": [
  {
   "cell_type": "markdown",
   "metadata": {},
   "source": [
    "# Lab 7b - Regularisation\n",
    "\n",
    "### Regularised regression with Ridge & LASSO\n",
    "\n",
    "- FUNCTIONS: Ridge, RidgeCV, Lasso, LassoCV\n",
    "- DOCUMENTATION: http://scikit-learn.org/stable/modules/linear_model.html\n",
    "- DATA: \n",
    "  - Dataset 'Crime' (n=319 non-null, p=122, type=regression)\n",
    "    - This data set contains data on violent crimes within a community.\n",
    "    - Data Dictionary: http://archive.ics.uci.edu/ml/datasets/Communities+and+Crime\n",
    "  - Dataset 'boston' \n",
    "    - This data set contains Boston house prices and candidate predictors."
   ]
  },
  {
   "cell_type": "code",
   "execution_count": 1,
   "metadata": {},
   "outputs": [],
   "source": [
    "import pandas as pd\n",
    "import numpy as np\n",
    "import scipy.stats as st"
   ]
  },
  {
   "cell_type": "code",
   "execution_count": 2,
   "metadata": {},
   "outputs": [
    {
     "data": {
      "text/html": [
       "<div>\n",
       "<style scoped>\n",
       "    .dataframe tbody tr th:only-of-type {\n",
       "        vertical-align: middle;\n",
       "    }\n",
       "\n",
       "    .dataframe tbody tr th {\n",
       "        vertical-align: top;\n",
       "    }\n",
       "\n",
       "    .dataframe thead th {\n",
       "        text-align: right;\n",
       "    }\n",
       "</style>\n",
       "<table border=\"1\" class=\"dataframe\">\n",
       "  <thead>\n",
       "    <tr style=\"text-align: right;\">\n",
       "      <th></th>\n",
       "      <th>5</th>\n",
       "      <th>6</th>\n",
       "      <th>7</th>\n",
       "      <th>8</th>\n",
       "      <th>9</th>\n",
       "      <th>10</th>\n",
       "      <th>11</th>\n",
       "      <th>12</th>\n",
       "      <th>13</th>\n",
       "      <th>14</th>\n",
       "      <th>...</th>\n",
       "      <th>118</th>\n",
       "      <th>119</th>\n",
       "      <th>120</th>\n",
       "      <th>121</th>\n",
       "      <th>122</th>\n",
       "      <th>123</th>\n",
       "      <th>124</th>\n",
       "      <th>125</th>\n",
       "      <th>126</th>\n",
       "      <th>127</th>\n",
       "    </tr>\n",
       "  </thead>\n",
       "  <tbody>\n",
       "    <tr>\n",
       "      <th>0</th>\n",
       "      <td>0.19</td>\n",
       "      <td>0.33</td>\n",
       "      <td>0.02</td>\n",
       "      <td>0.90</td>\n",
       "      <td>0.12</td>\n",
       "      <td>0.17</td>\n",
       "      <td>0.34</td>\n",
       "      <td>0.47</td>\n",
       "      <td>0.29</td>\n",
       "      <td>0.32</td>\n",
       "      <td>...</td>\n",
       "      <td>0.12</td>\n",
       "      <td>0.26</td>\n",
       "      <td>0.20</td>\n",
       "      <td>0.06</td>\n",
       "      <td>0.04</td>\n",
       "      <td>0.90</td>\n",
       "      <td>0.5</td>\n",
       "      <td>0.32</td>\n",
       "      <td>0.14</td>\n",
       "      <td>0.20</td>\n",
       "    </tr>\n",
       "    <tr>\n",
       "      <th>16</th>\n",
       "      <td>0.15</td>\n",
       "      <td>0.31</td>\n",
       "      <td>0.40</td>\n",
       "      <td>0.63</td>\n",
       "      <td>0.14</td>\n",
       "      <td>0.06</td>\n",
       "      <td>0.58</td>\n",
       "      <td>0.72</td>\n",
       "      <td>0.65</td>\n",
       "      <td>0.47</td>\n",
       "      <td>...</td>\n",
       "      <td>0.06</td>\n",
       "      <td>0.39</td>\n",
       "      <td>0.84</td>\n",
       "      <td>0.06</td>\n",
       "      <td>0.06</td>\n",
       "      <td>0.91</td>\n",
       "      <td>0.5</td>\n",
       "      <td>0.88</td>\n",
       "      <td>0.26</td>\n",
       "      <td>0.49</td>\n",
       "    </tr>\n",
       "    <tr>\n",
       "      <th>20</th>\n",
       "      <td>0.25</td>\n",
       "      <td>0.54</td>\n",
       "      <td>0.05</td>\n",
       "      <td>0.71</td>\n",
       "      <td>0.48</td>\n",
       "      <td>0.30</td>\n",
       "      <td>0.42</td>\n",
       "      <td>0.48</td>\n",
       "      <td>0.28</td>\n",
       "      <td>0.32</td>\n",
       "      <td>...</td>\n",
       "      <td>0.09</td>\n",
       "      <td>0.46</td>\n",
       "      <td>0.05</td>\n",
       "      <td>0.09</td>\n",
       "      <td>0.05</td>\n",
       "      <td>0.88</td>\n",
       "      <td>0.5</td>\n",
       "      <td>0.76</td>\n",
       "      <td>0.13</td>\n",
       "      <td>0.34</td>\n",
       "    </tr>\n",
       "    <tr>\n",
       "      <th>21</th>\n",
       "      <td>1.00</td>\n",
       "      <td>0.42</td>\n",
       "      <td>0.47</td>\n",
       "      <td>0.59</td>\n",
       "      <td>0.12</td>\n",
       "      <td>0.05</td>\n",
       "      <td>0.41</td>\n",
       "      <td>0.53</td>\n",
       "      <td>0.34</td>\n",
       "      <td>0.33</td>\n",
       "      <td>...</td>\n",
       "      <td>1.00</td>\n",
       "      <td>0.07</td>\n",
       "      <td>0.15</td>\n",
       "      <td>1.00</td>\n",
       "      <td>0.35</td>\n",
       "      <td>0.73</td>\n",
       "      <td>0.0</td>\n",
       "      <td>0.31</td>\n",
       "      <td>0.21</td>\n",
       "      <td>0.69</td>\n",
       "    </tr>\n",
       "    <tr>\n",
       "      <th>23</th>\n",
       "      <td>0.11</td>\n",
       "      <td>0.43</td>\n",
       "      <td>0.04</td>\n",
       "      <td>0.89</td>\n",
       "      <td>0.09</td>\n",
       "      <td>0.06</td>\n",
       "      <td>0.45</td>\n",
       "      <td>0.48</td>\n",
       "      <td>0.31</td>\n",
       "      <td>0.46</td>\n",
       "      <td>...</td>\n",
       "      <td>0.16</td>\n",
       "      <td>0.12</td>\n",
       "      <td>0.07</td>\n",
       "      <td>0.04</td>\n",
       "      <td>0.01</td>\n",
       "      <td>0.81</td>\n",
       "      <td>1.0</td>\n",
       "      <td>0.56</td>\n",
       "      <td>0.09</td>\n",
       "      <td>0.63</td>\n",
       "    </tr>\n",
       "  </tbody>\n",
       "</table>\n",
       "<p>5 rows × 123 columns</p>\n",
       "</div>"
      ],
      "text/plain": [
       "     5     6     7     8     9     10    11    12    13    14   ...    118  \\\n",
       "0   0.19  0.33  0.02  0.90  0.12  0.17  0.34  0.47  0.29  0.32  ...   0.12   \n",
       "16  0.15  0.31  0.40  0.63  0.14  0.06  0.58  0.72  0.65  0.47  ...   0.06   \n",
       "20  0.25  0.54  0.05  0.71  0.48  0.30  0.42  0.48  0.28  0.32  ...   0.09   \n",
       "21  1.00  0.42  0.47  0.59  0.12  0.05  0.41  0.53  0.34  0.33  ...   1.00   \n",
       "23  0.11  0.43  0.04  0.89  0.09  0.06  0.45  0.48  0.31  0.46  ...   0.16   \n",
       "\n",
       "     119   120   121   122   123  124   125   126   127  \n",
       "0   0.26  0.20  0.06  0.04  0.90  0.5  0.32  0.14  0.20  \n",
       "16  0.39  0.84  0.06  0.06  0.91  0.5  0.88  0.26  0.49  \n",
       "20  0.46  0.05  0.09  0.05  0.88  0.5  0.76  0.13  0.34  \n",
       "21  0.07  0.15  1.00  0.35  0.73  0.0  0.31  0.21  0.69  \n",
       "23  0.12  0.07  0.04  0.01  0.81  1.0  0.56  0.09  0.63  \n",
       "\n",
       "[5 rows x 123 columns]"
      ]
     },
     "execution_count": 2,
     "metadata": {},
     "output_type": "execute_result"
    }
   ],
   "source": [
    "# read data, remove categorical features, remove rows with missing values\n",
    "crime = pd.read_csv('http://archive.ics.uci.edu/ml/machine-learning-databases/communities/communities.data', \n",
    "                    header=None, na_values=['?'])\n",
    "crime = crime.iloc[:, 5:]\n",
    "crime.dropna(inplace=True)\n",
    "crime.head()"
   ]
  },
  {
   "cell_type": "code",
   "execution_count": 5,
   "metadata": {},
   "outputs": [
    {
     "data": {
      "text/html": [
       "<div>\n",
       "<style scoped>\n",
       "    .dataframe tbody tr th:only-of-type {\n",
       "        vertical-align: middle;\n",
       "    }\n",
       "\n",
       "    .dataframe tbody tr th {\n",
       "        vertical-align: top;\n",
       "    }\n",
       "\n",
       "    .dataframe thead th {\n",
       "        text-align: right;\n",
       "    }\n",
       "</style>\n",
       "<table border=\"1\" class=\"dataframe\">\n",
       "  <thead>\n",
       "    <tr style=\"text-align: right;\">\n",
       "      <th></th>\n",
       "      <th>0</th>\n",
       "    </tr>\n",
       "  </thead>\n",
       "  <tbody>\n",
       "    <tr>\n",
       "      <th>123</th>\n",
       "      <td>LemasPctPolicOnPatr</td>\n",
       "    </tr>\n",
       "    <tr>\n",
       "      <th>124</th>\n",
       "      <td>LemasGangUnitDeploy</td>\n",
       "    </tr>\n",
       "    <tr>\n",
       "      <th>125</th>\n",
       "      <td>LemasPctOfficDrugUn</td>\n",
       "    </tr>\n",
       "    <tr>\n",
       "      <th>126</th>\n",
       "      <td>PolicBudgPerPop</td>\n",
       "    </tr>\n",
       "    <tr>\n",
       "      <th>127</th>\n",
       "      <td>ViolentCrimesPerPop</td>\n",
       "    </tr>\n",
       "  </tbody>\n",
       "</table>\n",
       "</div>"
      ],
      "text/plain": [
       "                       0\n",
       "123  LemasPctPolicOnPatr\n",
       "124  LemasGangUnitDeploy\n",
       "125  LemasPctOfficDrugUn\n",
       "126      PolicBudgPerPop\n",
       "127  ViolentCrimesPerPop"
      ]
     },
     "execution_count": 5,
     "metadata": {},
     "output_type": "execute_result"
    }
   ],
   "source": [
    "# optional: read column names:\n",
    "crimenames = pd.read_csv('communities.data.names', header=None)\n",
    "crimenames = crimenames.iloc[5:, :]\n",
    "crimenames.tail()"
   ]
  },
  {
   "cell_type": "code",
   "execution_count": 31,
   "metadata": {},
   "outputs": [],
   "source": [
    "# define X and y\n",
    "X = crime.iloc[:, :-1]\n",
    "y = crime.iloc[:, -1]\n",
    "\n",
    "# split into train/test\n",
    "from sklearn.model_selection import train_test_split\n",
    "X_train, X_test, y_train, y_test = train_test_split(X, y, random_state=1)"
   ]
  },
  {
   "cell_type": "code",
   "execution_count": 7,
   "metadata": {},
   "outputs": [
    {
     "data": {
      "text/plain": [
       "(319, 122)"
      ]
     },
     "execution_count": 7,
     "metadata": {},
     "output_type": "execute_result"
    }
   ],
   "source": [
    "# How many columns are in X?\n",
    "X.shape"
   ]
  },
  {
   "cell_type": "markdown",
   "metadata": {},
   "source": [
    "### Linear Regression Model Without Regularisation "
   ]
  },
  {
   "cell_type": "code",
   "execution_count": 8,
   "metadata": {},
   "outputs": [
    {
     "data": {
      "text/plain": [
       "array([-3.66188167e+00,  6.98124465e-01, -2.61955467e-01, -2.85270027e-01,\n",
       "       -1.64740837e-01,  2.46972333e-01, -1.09290051e+00, -5.96857796e-01,\n",
       "        1.11200239e+00, -7.21968931e-01,  4.27346598e+00, -2.28040268e-01,\n",
       "        8.04875769e-01, -2.57934732e-01, -2.63458023e-01, -1.04616958e+00,\n",
       "        6.07784197e-01,  7.73552561e-01,  5.96468029e-02,  6.90215922e-01,\n",
       "        2.16759430e-02, -4.87802949e-01, -5.18858404e-01,  1.39478815e-01,\n",
       "       -1.24417942e-01,  3.15003821e-01, -1.52633736e-01, -9.65003927e-01,\n",
       "        1.17142163e+00, -3.08546690e-02, -9.29085548e-01,  1.24654586e-01,\n",
       "        1.98104506e-01,  7.30804821e-01, -1.77337294e-01,  8.32927588e-02,\n",
       "        3.46045601e-01,  5.01837338e-01,  1.57062958e+00, -4.13478807e-01,\n",
       "        1.39350802e+00, -3.49428114e+00,  7.09577818e-01, -8.32141352e-01,\n",
       "       -1.39984927e+00,  1.02482840e+00,  2.13855006e-01, -6.18937325e-01,\n",
       "        5.28954490e-01,  7.98294890e-02,  5.93688560e-02, -1.68582667e-01,\n",
       "        7.31264051e-01, -1.39635208e+00,  2.38507704e-01,  5.50621439e-01,\n",
       "       -5.61447867e-01,  6.18989764e-01,  2.55517024e+00, -3.71769599e+00,\n",
       "        7.09191935e-01,  3.82041439e-01,  8.23752836e-01, -1.67703547e+00,\n",
       "       -1.73150450e+00,  9.90120171e-01, -5.72745697e-01, -1.45877295e+00,\n",
       "        8.68032144e-01,  5.15959984e-01,  3.14453207e-02,  2.01869791e-01,\n",
       "        9.65291940e-02,  2.13034099e+00, -6.95374423e-02,  4.62477023e-02,\n",
       "       -1.10565955e-02, -1.34313780e-02, -1.04515494e-01, -8.76985171e-01,\n",
       "        4.26781907e-01, -1.85405795e-01, -8.16215517e-01, -2.86596076e-01,\n",
       "       -1.56110708e-01,  1.76468580e+00, -5.70163730e-01, -7.54066704e-02,\n",
       "       -1.74212697e-01, -8.89747220e-02,  2.26336403e-01,  1.38030073e+00,\n",
       "       -3.37304744e-01, -2.57856611e-02,  8.91299188e-02,  3.49876793e-01,\n",
       "       -1.22428557e+00, -3.67941205e+01, -6.95699750e-01,  2.95269279e-01,\n",
       "       -1.48590316e-03,  2.34206416e-01, -7.09533984e-03,  3.67152957e+01,\n",
       "       -8.90665109e-02,  3.79550678e-02,  3.19375782e-01,  4.60708905e-01,\n",
       "        1.41090069e-01, -6.67017320e-01, -2.59035245e-01, -4.60600755e-04,\n",
       "       -1.51868232e-02,  7.54768410e-02, -2.36105498e-03, -1.50328233e-01,\n",
       "        1.85575558e-01,  6.31979224e-01, -1.50253625e-01,  1.87638817e-02,\n",
       "       -3.38095851e-02, -4.46104032e-01])"
      ]
     },
     "execution_count": 8,
     "metadata": {},
     "output_type": "execute_result"
    }
   ],
   "source": [
    "# linear regression\n",
    "from sklearn.linear_model import LinearRegression\n",
    "lm = LinearRegression()\n",
    "lm.fit(X_train, y_train)\n",
    "lm.intercept_\n",
    "lm.coef_\n",
    "# What are these numbers? coefficients of all the features in X_train"
   ]
  },
  {
   "cell_type": "code",
   "execution_count": 9,
   "metadata": {},
   "outputs": [
    {
     "data": {
      "text/plain": [
       "DescribeResult(nobs=122, minmax=(-36.794120528700006, 36.715295684780365), mean=-0.008324631712139551, variance=23.294819823700394, skewness=-0.021465688332930867, kurtosis=53.06238369462364)"
      ]
     },
     "execution_count": 9,
     "metadata": {},
     "output_type": "execute_result"
    }
   ],
   "source": [
    "st.describe(lm.coef_)"
   ]
  },
  {
   "cell_type": "code",
   "execution_count": 10,
   "metadata": {},
   "outputs": [
    {
     "name": "stdout",
     "output_type": "stream",
     "text": [
      "RMSE (no regularisation) = 0.2338136764948684\n"
     ]
    }
   ],
   "source": [
    "# make predictions and evaluate\n",
    "import numpy as np\n",
    "from sklearn import metrics\n",
    "preds = lm.predict(X_test)\n",
    "print('RMSE (no regularisation) =', np.sqrt(metrics.mean_squared_error(y_test, preds)))"
   ]
  },
  {
   "cell_type": "markdown",
   "metadata": {},
   "source": [
    "### Ridge Regression Model "
   ]
  },
  {
   "cell_type": "code",
   "execution_count": 11,
   "metadata": {},
   "outputs": [
    {
     "name": "stdout",
     "output_type": "stream",
     "text": [
      "RMSE (Ridge reg.) = 0.16427906804924083\n"
     ]
    }
   ],
   "source": [
    "# ridge regression (alpha must be positive, larger means more regularisation)\n",
    "from sklearn.linear_model import Ridge\n",
    "rreg = Ridge(alpha=0.1, normalize=True)\n",
    "rreg.fit(X_train, y_train)\n",
    "rreg.coef_\n",
    "preds = rreg.predict(X_test)\n",
    "print('RMSE (Ridge reg.) =', np.sqrt(metrics.mean_squared_error(y_test, preds)))\n",
    "# Is this model better? Why? Yes, the ridge regression model has lower RMSE "
   ]
  },
  {
   "cell_type": "markdown",
   "metadata": {},
   "source": [
    "#### Ridge Regression with Cross-Validation "
   ]
  },
  {
   "cell_type": "code",
   "execution_count": 12,
   "metadata": {},
   "outputs": [
    {
     "name": "stdout",
     "output_type": "stream",
     "text": [
      "Optimal Alpha Value:  1.0\n",
      "RMSE (Ridge CV reg.) = 0.16312978234269107\n"
     ]
    }
   ],
   "source": [
    "# use RidgeCV to select best alpha:\n",
    "from sklearn.linear_model import RidgeCV\n",
    "alpha_range = 10.**np.arange(0, 3)\n",
    "rregcv = RidgeCV(normalize=True, scoring='neg_mean_squared_error', alphas=alpha_range)\n",
    "rregcv.fit(X_train, y_train)\n",
    "\n",
    "# Print the optimal value of Alpha for Ridge Regression\n",
    "print('Optimal Alpha Value: ', rregcv.alpha_)\n",
    "\n",
    "# Print the RMSE for the ridge regression model\n",
    "preds = rregcv.predict(X_test)\n",
    "print ('RMSE (Ridge CV reg.) =', np.sqrt(metrics.mean_squared_error(y_test, preds)))\n",
    "# What is the range of alpha values we are searching over?"
   ]
  },
  {
   "cell_type": "markdown",
   "metadata": {},
   "source": [
    "### LASSO Regression Model "
   ]
  },
  {
   "cell_type": "code",
   "execution_count": 28,
   "metadata": {},
   "outputs": [
    {
     "name": "stdout",
     "output_type": "stream",
     "text": [
      "RMSE (Lasso reg.) = 0.19816522542866313\n"
     ]
    }
   ],
   "source": [
    "# lasso (alpha must be positive, larger means more regularisation)\n",
    "from sklearn.linear_model import Lasso\n",
    "las = Lasso(alpha=0.01, normalize=True)\n",
    "las.fit(X_train, y_train)\n",
    "las.coef_\n",
    "preds = las.predict(X_test)\n",
    "print('RMSE (Lasso reg.) =', np.sqrt(metrics.mean_squared_error(y_test, preds)))"
   ]
  },
  {
   "cell_type": "code",
   "execution_count": 29,
   "metadata": {},
   "outputs": [
    {
     "name": "stdout",
     "output_type": "stream",
     "text": [
      "RMSE (Lasso reg.) = 0.16003902404387874\n"
     ]
    }
   ],
   "source": [
    "# try a smaller alpha\n",
    "las = Lasso(alpha=0.001, normalize=True)\n",
    "las.fit(X_train, y_train)\n",
    "las.coef_\n",
    "preds = las.predict(X_test)\n",
    "print('RMSE (Lasso reg.) =', np.sqrt(metrics.mean_squared_error(y_test, preds)))"
   ]
  },
  {
   "cell_type": "code",
   "execution_count": 15,
   "metadata": {},
   "outputs": [
    {
     "data": {
      "text/plain": [
       "array([  1.,  10., 100.])"
      ]
     },
     "execution_count": 15,
     "metadata": {},
     "output_type": "execute_result"
    }
   ],
   "source": [
    "alpha_range"
   ]
  },
  {
   "cell_type": "code",
   "execution_count": 32,
   "metadata": {},
   "outputs": [
    {
     "name": "stdout",
     "output_type": "stream",
     "text": [
      "[1.e-05 1.e-04 1.e-03 1.e-02 1.e-01 1.e+00 1.e+01 1.e+02 1.e+03 1.e+04]\n"
     ]
    },
    {
     "name": "stderr",
     "output_type": "stream",
     "text": [
      "/usr/local/lib/python3.5/dist-packages/sklearn/linear_model/coordinate_descent.py:491: ConvergenceWarning: Objective did not converge. You might want to increase the number of iterations. Fitting data with very small alpha may cause precision problems.\n",
      "  ConvergenceWarning)\n"
     ]
    },
    {
     "name": "stdout",
     "output_type": "stream",
     "text": [
      "Optimal Alpha Value:  0.001\n",
      "RMSE (Lasso CV reg.) = 0.16003902404387874\n"
     ]
    }
   ],
   "source": [
    "# use LassoCV to select best alpha (tries 100 alphas by default)\n",
    "from sklearn.linear_model import LassoCV\n",
    "alpha_range = 10.**np.arange(-5, 5)\n",
    "print(alpha_range)\n",
    "lascv = LassoCV(normalize=True, alphas=alpha_range, max_iter=10000)\n",
    "lascv.fit(X_train, y_train)\n",
    "print('Optimal Alpha Value: ',lascv.alpha_)\n",
    "lascv.coef_\n",
    "preds = lascv.predict(X_test)\n",
    "print('RMSE (Lasso CV reg.) =', np.sqrt(metrics.mean_squared_error(y_test, preds)))"
   ]
  },
  {
   "cell_type": "code",
   "execution_count": 15,
   "metadata": {
    "collapsed": true
   },
   "outputs": [],
   "source": [
    "? LassoCV"
   ]
  },
  {
   "cell_type": "markdown",
   "metadata": {},
   "source": [
    "### Task 1: Elastic Net Regularised Regression\n",
    "\n",
    "#### Look up [Elastic Net](http://scikit-learn.org/stable/modules/linear_model.html#elastic-net) and complete the following.\n",
    "\n",
    "\n",
    "(1) What is elastic net?\n",
    "It is another linear regression model with combined L1 and L2 from the Lasso regression model as a regularizer.\n",
    "\n",
    "(2) How does it work?\n",
    "\n",
    "\n",
    "(3) Run elastic net on the above dataset."
   ]
  },
  {
   "cell_type": "code",
   "execution_count": 35,
   "metadata": {},
   "outputs": [
    {
     "data": {
      "text/plain": [
       "array([0.  , 0.25, 0.5 , 0.75, 1.  ])"
      ]
     },
     "execution_count": 35,
     "metadata": {},
     "output_type": "execute_result"
    }
   ],
   "source": [
    "l1 = np.linspace(0, 1, 5)\n",
    "l1"
   ]
  },
  {
   "cell_type": "code",
   "execution_count": 37,
   "metadata": {},
   "outputs": [
    {
     "name": "stdout",
     "output_type": "stream",
     "text": [
      "Optimal Alpha Value:  0.01\n",
      "RMSE (Elastic Net CV reg.)=  0.16039978886360107\n"
     ]
    },
    {
     "name": "stderr",
     "output_type": "stream",
     "text": [
      "/usr/local/lib/python3.5/dist-packages/sklearn/linear_model/coordinate_descent.py:491: ConvergenceWarning: Objective did not converge. You might want to increase the number of iterations. Fitting data with very small alpha may cause precision problems.\n",
      "  ConvergenceWarning)\n"
     ]
    }
   ],
   "source": [
    "# Set up and run the elastic net model\n",
    "from sklearn.linear_model import ElasticNetCV\n",
    "\n",
    "enet = ElasticNetCV(alphas=alpha_range, max_iter=1000)\n",
    "enet.fit(X_train, y_train)\n",
    "print('Optimal Alpha Value: ', enet.alpha_)\n",
    "enet.coef_\n",
    "preds = enet.predict(X_test)\n",
    "print('RMSE (Elastic Net CV reg.)= ', np.sqrt(metrics.mean_squared_error(y_test, preds)))"
   ]
  },
  {
   "cell_type": "markdown",
   "metadata": {
    "collapsed": true
   },
   "source": [
    "### Task 2: Carry out Regularised Regression\n",
    "\n",
    "(1) Run all three forms of regularised regression on the Boston Housing dataset.\n",
    "\n",
    "(2) What do the coefficients mean?\n",
    "\n",
    "(3) What would you advise someone living in Boston to try and raise the value of their home?\n"
   ]
  },
  {
   "cell_type": "code",
   "execution_count": 38,
   "metadata": {},
   "outputs": [],
   "source": [
    "# load libraries and data:\n",
    "from sklearn.linear_model import LassoCV\n",
    "from sklearn.preprocessing import StandardScaler\n",
    "from sklearn.datasets import load_boston\n",
    "\n",
    "# Nb. the sklearn.datasets.load_*() functions return a 'bunch' object:\n",
    "# (ref = http://scikit-learn.org/stable/modules/generated/sklearn.datasets.fetch_mldata.html)\n",
    "boston = load_boston()\n",
    "\n",
    "# standardise variables:\n",
    "scaler = StandardScaler()\n",
    "X = scaler.fit_transform(boston[\"data\"])\n",
    "\n",
    "Y = boston[\"target\"]\n",
    "names = boston[\"feature_names\"]\n",
    "\n",
    "# Split into test and training data\n",
    "\n",
    "X_train, X_test, y_train, y_test = train_test_split(X, y, random_state=1)"
   ]
  },
  {
   "cell_type": "code",
   "execution_count": null,
   "metadata": {},
   "outputs": [],
   "source": [
    "# Define an alpha range\n",
    "\n",
    "alpha_range = 10**np.linspace(-5, 5)"
   ]
  },
  {
   "cell_type": "code",
   "execution_count": 40,
   "metadata": {},
   "outputs": [
    {
     "name": "stderr",
     "output_type": "stream",
     "text": [
      "/usr/local/lib/python3.5/dist-packages/sklearn/linear_model/coordinate_descent.py:491: ConvergenceWarning: Objective did not converge. You might want to increase the number of iterations. Fitting data with very small alpha may cause precision problems.\n",
      "  ConvergenceWarning)\n"
     ]
    },
    {
     "name": "stdout",
     "output_type": "stream",
     "text": [
      "Optimal Alpha Value:  0.001\n",
      "[ 0.          0.          0.00891952 -0.27423369  0.          0.\n",
      "  0.         -0.         -0.          0.          0.          0.\n",
      " -0.         -0.         -0.         -0.19414627  0.          0.\n",
      " -0.         -0.         -0.         -0.         -0.         -0.\n",
      " -0.          0.          0.          0.          0.04335664 -0.\n",
      "  0.         -0.          0.03491474 -0.         -0.06685424  0.\n",
      "  0.         -0.          0.10575313  0.          0.          0.00890807\n",
      "  0.         -0.1378172  -0.30954312 -0.         -0.         -0.\n",
      " -0.          0.          0.          0.          0.         -0.\n",
      "  0.          0.          0.          0.          0.          0.\n",
      " -0.          0.          0.          0.         -0.          0.\n",
      " -0.         -0.          0.          0.05257892 -0.          0.\n",
      " -0.         -0.          0.          0.          0.          0.\n",
      "  0.         -0.         -0.         -0.         -0.         -0.\n",
      " -0.         -0.          0.         -0.         -0.          0.\n",
      "  0.13861081  0.         -0.         -0.          0.          0.\n",
      "  0.          0.         -0.          0.          0.          0.\n",
      "  0.03347908  0.         -0.01130055 -0.          0.          0.\n",
      "  0.00044205  0.          0.          0.         -0.          0.\n",
      " -0.         -0.          0.04153636  0.         -0.          0.00719672\n",
      " -0.000666    0.        ]\n",
      "RMSE (Lasso CV Reg.):  0.16003902404387874\n"
     ]
    }
   ],
   "source": [
    "# Build Lasso models over a range of alpha:\n",
    "\n",
    "lascv = LassoCV(alphas=alpha_range, max_iter=10000, normalize=True)\n",
    "lascv.fit(X_train, y_train)\n",
    "print('Optimal Alpha Value: ', lascv.alpha_)\n",
    "print(lascv.coef_)\n",
    "preds = lascv.predict(X_test)\n",
    "print('RMSE (Lasso CV Reg.): ', np.sqrt(metrics.mean_squared_error(y_test, preds)))"
   ]
  },
  {
   "cell_type": "code",
   "execution_count": 42,
   "metadata": {},
   "outputs": [
    {
     "name": "stdout",
     "output_type": "stream",
     "text": [
      "Optimal Alpha Value:  1.0\n",
      "[-1.35479199e-03  3.66493623e-03  5.67246153e-02 -6.65596102e-02\n",
      "  7.50154730e-03  3.73570277e-03  1.48458510e-02 -8.26212596e-03\n",
      " -9.14751985e-04  8.17782143e-03 -9.58221848e-04  3.99333039e-03\n",
      " -2.04774531e-02 -3.80310378e-02 -7.06311041e-02 -9.07995340e-02\n",
      "  3.92365601e-03  3.68491166e-02 -2.35269424e-02 -1.36618143e-02\n",
      " -9.83437557e-03  1.30086791e-02 -3.43297706e-02 -5.04638755e-02\n",
      " -9.82883411e-04  7.47392898e-02  2.63572032e-02 -1.07987605e-02\n",
      "  3.16035521e-02 -2.17283831e-02 -4.45588182e-03 -1.06490401e-02\n",
      "  4.42829964e-02 -3.72944143e-02 -6.18713730e-02  3.20124805e-02\n",
      "  5.85549588e-03 -1.23569409e-02  6.53560040e-02  3.46461301e-02\n",
      "  6.00524147e-02  6.39805254e-02  2.58651194e-02 -6.73126020e-02\n",
      " -7.02669216e-02 -5.05555985e-02 -6.41318316e-02  8.24959798e-03\n",
      "  9.27945661e-03  2.77399795e-03  5.26650167e-02 -3.83854430e-03\n",
      " -6.04984296e-03 -1.53114959e-02  1.72393078e-02  2.11864055e-02\n",
      "  4.40697120e-04  3.32044620e-03  7.16243927e-03  6.66440446e-03\n",
      " -7.72185920e-05  2.69852368e-03  2.81341584e-02  1.97363420e-02\n",
      " -6.50713075e-03  1.32688080e-02 -1.33248499e-02 -1.46491869e-02\n",
      "  2.30579186e-02  7.96862124e-02  2.12388813e-04  1.34268743e-02\n",
      " -2.66304497e-02 -1.32590800e-02  2.00181039e-02  7.27144905e-03\n",
      "  5.04718226e-03  2.88522636e-02  7.53947389e-03 -7.97163573e-03\n",
      " -5.55521252e-03 -1.71984008e-03 -3.34721090e-02 -8.08297495e-03\n",
      " -8.41053916e-03  3.05921418e-04  9.38632965e-03 -6.90899365e-03\n",
      " -3.05496999e-02  3.77828928e-02  6.33462868e-02  1.10005833e-02\n",
      " -2.29792767e-02  7.97147365e-03  7.50701811e-03  8.23752156e-03\n",
      "  4.59206678e-05  1.14778395e-03  2.78344743e-05 -2.12672814e-03\n",
      "  1.25110687e-02  3.42230959e-02  4.08143239e-02  1.42423735e-03\n",
      " -8.29660922e-02 -3.52386599e-02  3.32237250e-02 -1.77830301e-03\n",
      "  4.04432608e-02  1.85584939e-02  1.16761082e-02  8.52151434e-03\n",
      " -1.32322008e-02  1.22894191e-02 -6.44216624e-03 -5.02763328e-03\n",
      "  3.37623134e-02  2.17114525e-02 -8.21584473e-03  2.04175614e-02\n",
      " -3.06703463e-02 -9.00275805e-04]\n",
      "RMSE (Ridge CV Reg.):  0.16312978234269107\n"
     ]
    }
   ],
   "source": [
    "# Build cross-validated Ridge regression model\n",
    "\n",
    "ridcv = RidgeCV(alphas=alpha_range, scoring='neg_mean_squared_error', normalize=True)\n",
    "ridcv.fit(X_train, y_train)\n",
    "print('Optimal Alpha Value: ', ridcv.alpha_)\n",
    "print(ridcv.coef_)\n",
    "preds = ridcv.predict(X_test)\n",
    "print('RMSE (Ridge CV Reg.): ', np.sqrt(metrics.mean_squared_error(y_test, preds)))"
   ]
  },
  {
   "cell_type": "code",
   "execution_count": null,
   "metadata": {
    "collapsed": true
   },
   "outputs": [],
   "source": [
    "# Build cross-validated Elastic Net Model\n",
    "\n"
   ]
  },
  {
   "cell_type": "code",
   "execution_count": null,
   "metadata": {
    "collapsed": true
   },
   "outputs": [],
   "source": [
    "# Print dataset description\n",
    "\n"
   ]
  },
  {
   "cell_type": "markdown",
   "metadata": {},
   "source": [
    "### *Interpret Results*\n",
    "\n"
   ]
  },
  {
   "cell_type": "code",
   "execution_count": 23,
   "metadata": {},
   "outputs": [
    {
     "ename": "SyntaxError",
     "evalue": "EOL while scanning string literal (<ipython-input-23-ff2df81d750b>, line 2)",
     "output_type": "error",
     "traceback": [
      "\u001b[0;36m  File \u001b[0;32m\"<ipython-input-23-ff2df81d750b>\"\u001b[0;36m, line \u001b[0;32m2\u001b[0m\n\u001b[0;31m    x.replace('\\','//')\u001b[0m\n\u001b[0m                       ^\u001b[0m\n\u001b[0;31mSyntaxError\u001b[0m\u001b[0;31m:\u001b[0m EOL while scanning string literal\n"
     ]
    }
   ],
   "source": [
    "l = ['/']\n"
   ]
  },
  {
   "cell_type": "code",
   "execution_count": null,
   "metadata": {
    "collapsed": true
   },
   "outputs": [],
   "source": []
  },
  {
   "cell_type": "markdown",
   "metadata": {},
   "source": [
    "\n",
    "\n"
   ]
  }
 ],
 "metadata": {
  "kernelspec": {
   "display_name": "Python 3",
   "language": "python",
   "name": "python3"
  },
  "language_info": {
   "codemirror_mode": {
    "name": "ipython",
    "version": 3
   },
   "file_extension": ".py",
   "mimetype": "text/x-python",
   "name": "python",
   "nbconvert_exporter": "python",
   "pygments_lexer": "ipython3",
   "version": "3.5.2"
  }
 },
 "nbformat": 4,
 "nbformat_minor": 1
}
