{
 "cells": [
  {
   "cell_type": "markdown",
   "metadata": {
    "toc": true
   },
   "source": [
    "<h1>Table of Contents<span class=\"tocSkip\"></span></h1>\n",
    "<div class=\"toc\"><ul class=\"toc-item\"><li><span><a href=\"#Classification\" data-toc-modified-id=\"Classification-1\"><span class=\"toc-item-num\">1&nbsp;&nbsp;</span>Classification</a></span><ul class=\"toc-item\"><li><ul class=\"toc-item\"><li><span><a href=\"#Important-!!!\" data-toc-modified-id=\"Important-!!!-1.0.1\"><span class=\"toc-item-num\">1.0.1&nbsp;&nbsp;</span>Important !!!</a></span></li><li><span><a href=\"#Visualising-the-tree-is-a-bit-of-a-hassle...\" data-toc-modified-id=\"Visualising-the-tree-is-a-bit-of-a-hassle...-1.0.2\"><span class=\"toc-item-num\">1.0.2&nbsp;&nbsp;</span>Visualising the tree is a bit of a hassle...</a></span></li><li><span><a href=\"#Now-we've-got-something-that's-getting-a-bit-more-useful.\" data-toc-modified-id=\"Now-we've-got-something-that's-getting-a-bit-more-useful.-1.0.3\"><span class=\"toc-item-num\">1.0.3&nbsp;&nbsp;</span>Now we've got something that's getting a bit more useful.</a></span></li></ul></li><li><span><a href=\"#Regression\" data-toc-modified-id=\"Regression-1.1\"><span class=\"toc-item-num\">1.1&nbsp;&nbsp;</span>Regression</a></span></li></ul></li></ul></div>"
   ]
  },
  {
   "cell_type": "markdown",
   "metadata": {},
   "source": [
    "# Classification and Regression Trees\n",
    "\n",
    "## Classification\n",
    "\n",
    "In this task we have some data from the HR department of a company. Our goal is to understand why people are leaving and if there's anything we can do to stop the good people from leaving. This will be a classification problem where the category we are trying to predict is 'leave' or 'stay'.\n",
    "\n",
    "The data we have contains the following infromation:\n",
    "\n",
    "- satisfaction_level: How satisfied is an employee with their current role\n",
    "- last_evaluation: How a manager has rated an employees performance\n",
    "- number_project: The number of projects the employee has worked on\n",
    "- average_monthly_hours: The average number of hours they work (billed?) in the month\n",
    "- time_spend_company: Number of years of service.\n",
    "- Work_accident: Whether or not they have had a work accident\n",
    "- left: whether or not an employee left (our y-variable in this case)\n",
    "- promoted_last_5years: Was the employee promoted in the last 5 years\n",
    "- sales: What division the employee worked in\n",
    "- salary: 3-level salary score (low, medium, high)\n"
   ]
  },
  {
   "cell_type": "code",
   "execution_count": 1,
   "metadata": {
    "ExecuteTime": {
     "end_time": "2018-04-03T00:56:12.558830Z",
     "start_time": "2018-04-03T00:56:08.207144Z"
    }
   },
   "outputs": [],
   "source": [
    "from sklearn import tree\n",
    "import pandas as pd\n",
    "import numpy as np\n",
    "from sklearn.model_selection import train_test_split\n",
    "from sklearn import metrics\n",
    "import matplotlib.pyplot as plt\n",
    "import seaborn as sns\n",
    "\n",
    "%matplotlib inline\n",
    "\n",
    "\n",
    "\n"
   ]
  },
  {
   "cell_type": "code",
   "execution_count": 3,
   "metadata": {
    "ExecuteTime": {
     "end_time": "2018-04-03T00:56:53.453651Z",
     "start_time": "2018-04-03T00:56:53.365589Z"
    }
   },
   "outputs": [
    {
     "data": {
      "text/html": [
       "<div>\n",
       "<style scoped>\n",
       "    .dataframe tbody tr th:only-of-type {\n",
       "        vertical-align: middle;\n",
       "    }\n",
       "\n",
       "    .dataframe tbody tr th {\n",
       "        vertical-align: top;\n",
       "    }\n",
       "\n",
       "    .dataframe thead th {\n",
       "        text-align: right;\n",
       "    }\n",
       "</style>\n",
       "<table border=\"1\" class=\"dataframe\">\n",
       "  <thead>\n",
       "    <tr style=\"text-align: right;\">\n",
       "      <th></th>\n",
       "      <th>satisfaction_level</th>\n",
       "      <th>last_evaluation</th>\n",
       "      <th>number_project</th>\n",
       "      <th>average_montly_hours</th>\n",
       "      <th>time_spend_company</th>\n",
       "      <th>Work_accident</th>\n",
       "      <th>left</th>\n",
       "      <th>promotion_last_5years</th>\n",
       "      <th>sales</th>\n",
       "      <th>salary</th>\n",
       "    </tr>\n",
       "  </thead>\n",
       "  <tbody>\n",
       "    <tr>\n",
       "      <th>0</th>\n",
       "      <td>0.38</td>\n",
       "      <td>0.53</td>\n",
       "      <td>2</td>\n",
       "      <td>157</td>\n",
       "      <td>3</td>\n",
       "      <td>0</td>\n",
       "      <td>1</td>\n",
       "      <td>0</td>\n",
       "      <td>sales</td>\n",
       "      <td>low</td>\n",
       "    </tr>\n",
       "    <tr>\n",
       "      <th>1</th>\n",
       "      <td>0.80</td>\n",
       "      <td>0.86</td>\n",
       "      <td>5</td>\n",
       "      <td>262</td>\n",
       "      <td>6</td>\n",
       "      <td>0</td>\n",
       "      <td>1</td>\n",
       "      <td>0</td>\n",
       "      <td>sales</td>\n",
       "      <td>medium</td>\n",
       "    </tr>\n",
       "    <tr>\n",
       "      <th>2</th>\n",
       "      <td>0.11</td>\n",
       "      <td>0.88</td>\n",
       "      <td>7</td>\n",
       "      <td>272</td>\n",
       "      <td>4</td>\n",
       "      <td>0</td>\n",
       "      <td>1</td>\n",
       "      <td>0</td>\n",
       "      <td>sales</td>\n",
       "      <td>medium</td>\n",
       "    </tr>\n",
       "    <tr>\n",
       "      <th>3</th>\n",
       "      <td>0.72</td>\n",
       "      <td>0.87</td>\n",
       "      <td>5</td>\n",
       "      <td>223</td>\n",
       "      <td>5</td>\n",
       "      <td>0</td>\n",
       "      <td>1</td>\n",
       "      <td>0</td>\n",
       "      <td>sales</td>\n",
       "      <td>low</td>\n",
       "    </tr>\n",
       "    <tr>\n",
       "      <th>4</th>\n",
       "      <td>0.37</td>\n",
       "      <td>0.52</td>\n",
       "      <td>2</td>\n",
       "      <td>159</td>\n",
       "      <td>3</td>\n",
       "      <td>0</td>\n",
       "      <td>1</td>\n",
       "      <td>0</td>\n",
       "      <td>sales</td>\n",
       "      <td>low</td>\n",
       "    </tr>\n",
       "  </tbody>\n",
       "</table>\n",
       "</div>"
      ],
      "text/plain": [
       "   satisfaction_level  last_evaluation  number_project  average_montly_hours  \\\n",
       "0                0.38             0.53               2                   157   \n",
       "1                0.80             0.86               5                   262   \n",
       "2                0.11             0.88               7                   272   \n",
       "3                0.72             0.87               5                   223   \n",
       "4                0.37             0.52               2                   159   \n",
       "\n",
       "   time_spend_company  Work_accident  left  promotion_last_5years  sales  \\\n",
       "0                   3              0     1                      0  sales   \n",
       "1                   6              0     1                      0  sales   \n",
       "2                   4              0     1                      0  sales   \n",
       "3                   5              0     1                      0  sales   \n",
       "4                   3              0     1                      0  sales   \n",
       "\n",
       "   salary  \n",
       "0     low  \n",
       "1  medium  \n",
       "2  medium  \n",
       "3     low  \n",
       "4     low  "
      ]
     },
     "execution_count": 3,
     "metadata": {},
     "output_type": "execute_result"
    }
   ],
   "source": [
    "#Read data\n",
    "hr_data = pd.read_csv('../../../data/HR_comma_sep.csv')\n",
    "hr_data.head()\n",
    "\n",
    "\n"
   ]
  },
  {
   "cell_type": "code",
   "execution_count": 4,
   "metadata": {
    "ExecuteTime": {
     "end_time": "2018-04-03T00:56:56.680992Z",
     "start_time": "2018-04-03T00:56:56.656288Z"
    }
   },
   "outputs": [
    {
     "name": "stdout",
     "output_type": "stream",
     "text": [
      "['sales' 'accounting' 'hr' 'technical' 'support' 'management' 'IT'\n",
      " 'product_mng' 'marketing' 'RandD']\n",
      "['low' 'medium' 'high']\n"
     ]
    }
   ],
   "source": [
    "#Check the unique values for the strings\n",
    "print(hr_data['sales'].unique())\n",
    "\n",
    "print(hr_data['salary'].unique())\n",
    "\n"
   ]
  },
  {
   "cell_type": "code",
   "execution_count": 5,
   "metadata": {
    "ExecuteTime": {
     "end_time": "2018-04-03T00:56:57.483701Z",
     "start_time": "2018-04-03T00:56:57.440946Z"
    }
   },
   "outputs": [
    {
     "data": {
      "text/html": [
       "<div>\n",
       "<style scoped>\n",
       "    .dataframe tbody tr th:only-of-type {\n",
       "        vertical-align: middle;\n",
       "    }\n",
       "\n",
       "    .dataframe tbody tr th {\n",
       "        vertical-align: top;\n",
       "    }\n",
       "\n",
       "    .dataframe thead th {\n",
       "        text-align: right;\n",
       "    }\n",
       "</style>\n",
       "<table border=\"1\" class=\"dataframe\">\n",
       "  <thead>\n",
       "    <tr style=\"text-align: right;\">\n",
       "      <th></th>\n",
       "      <th>satisfaction_level</th>\n",
       "      <th>last_evaluation</th>\n",
       "      <th>number_project</th>\n",
       "      <th>average_montly_hours</th>\n",
       "      <th>time_spend_company</th>\n",
       "      <th>Work_accident</th>\n",
       "      <th>left</th>\n",
       "      <th>promotion_last_5years</th>\n",
       "      <th>sales_IT</th>\n",
       "      <th>sales_RandD</th>\n",
       "      <th>...</th>\n",
       "      <th>sales_hr</th>\n",
       "      <th>sales_management</th>\n",
       "      <th>sales_marketing</th>\n",
       "      <th>sales_product_mng</th>\n",
       "      <th>sales_sales</th>\n",
       "      <th>sales_support</th>\n",
       "      <th>sales_technical</th>\n",
       "      <th>salary_high</th>\n",
       "      <th>salary_low</th>\n",
       "      <th>salary_medium</th>\n",
       "    </tr>\n",
       "  </thead>\n",
       "  <tbody>\n",
       "    <tr>\n",
       "      <th>0</th>\n",
       "      <td>0.38</td>\n",
       "      <td>0.53</td>\n",
       "      <td>2</td>\n",
       "      <td>157</td>\n",
       "      <td>3</td>\n",
       "      <td>0</td>\n",
       "      <td>1</td>\n",
       "      <td>0</td>\n",
       "      <td>0</td>\n",
       "      <td>0</td>\n",
       "      <td>...</td>\n",
       "      <td>0</td>\n",
       "      <td>0</td>\n",
       "      <td>0</td>\n",
       "      <td>0</td>\n",
       "      <td>1</td>\n",
       "      <td>0</td>\n",
       "      <td>0</td>\n",
       "      <td>0</td>\n",
       "      <td>1</td>\n",
       "      <td>0</td>\n",
       "    </tr>\n",
       "    <tr>\n",
       "      <th>1</th>\n",
       "      <td>0.80</td>\n",
       "      <td>0.86</td>\n",
       "      <td>5</td>\n",
       "      <td>262</td>\n",
       "      <td>6</td>\n",
       "      <td>0</td>\n",
       "      <td>1</td>\n",
       "      <td>0</td>\n",
       "      <td>0</td>\n",
       "      <td>0</td>\n",
       "      <td>...</td>\n",
       "      <td>0</td>\n",
       "      <td>0</td>\n",
       "      <td>0</td>\n",
       "      <td>0</td>\n",
       "      <td>1</td>\n",
       "      <td>0</td>\n",
       "      <td>0</td>\n",
       "      <td>0</td>\n",
       "      <td>0</td>\n",
       "      <td>1</td>\n",
       "    </tr>\n",
       "    <tr>\n",
       "      <th>2</th>\n",
       "      <td>0.11</td>\n",
       "      <td>0.88</td>\n",
       "      <td>7</td>\n",
       "      <td>272</td>\n",
       "      <td>4</td>\n",
       "      <td>0</td>\n",
       "      <td>1</td>\n",
       "      <td>0</td>\n",
       "      <td>0</td>\n",
       "      <td>0</td>\n",
       "      <td>...</td>\n",
       "      <td>0</td>\n",
       "      <td>0</td>\n",
       "      <td>0</td>\n",
       "      <td>0</td>\n",
       "      <td>1</td>\n",
       "      <td>0</td>\n",
       "      <td>0</td>\n",
       "      <td>0</td>\n",
       "      <td>0</td>\n",
       "      <td>1</td>\n",
       "    </tr>\n",
       "    <tr>\n",
       "      <th>3</th>\n",
       "      <td>0.72</td>\n",
       "      <td>0.87</td>\n",
       "      <td>5</td>\n",
       "      <td>223</td>\n",
       "      <td>5</td>\n",
       "      <td>0</td>\n",
       "      <td>1</td>\n",
       "      <td>0</td>\n",
       "      <td>0</td>\n",
       "      <td>0</td>\n",
       "      <td>...</td>\n",
       "      <td>0</td>\n",
       "      <td>0</td>\n",
       "      <td>0</td>\n",
       "      <td>0</td>\n",
       "      <td>1</td>\n",
       "      <td>0</td>\n",
       "      <td>0</td>\n",
       "      <td>0</td>\n",
       "      <td>1</td>\n",
       "      <td>0</td>\n",
       "    </tr>\n",
       "    <tr>\n",
       "      <th>4</th>\n",
       "      <td>0.37</td>\n",
       "      <td>0.52</td>\n",
       "      <td>2</td>\n",
       "      <td>159</td>\n",
       "      <td>3</td>\n",
       "      <td>0</td>\n",
       "      <td>1</td>\n",
       "      <td>0</td>\n",
       "      <td>0</td>\n",
       "      <td>0</td>\n",
       "      <td>...</td>\n",
       "      <td>0</td>\n",
       "      <td>0</td>\n",
       "      <td>0</td>\n",
       "      <td>0</td>\n",
       "      <td>1</td>\n",
       "      <td>0</td>\n",
       "      <td>0</td>\n",
       "      <td>0</td>\n",
       "      <td>1</td>\n",
       "      <td>0</td>\n",
       "    </tr>\n",
       "  </tbody>\n",
       "</table>\n",
       "<p>5 rows × 21 columns</p>\n",
       "</div>"
      ],
      "text/plain": [
       "   satisfaction_level  last_evaluation  number_project  average_montly_hours  \\\n",
       "0                0.38             0.53               2                   157   \n",
       "1                0.80             0.86               5                   262   \n",
       "2                0.11             0.88               7                   272   \n",
       "3                0.72             0.87               5                   223   \n",
       "4                0.37             0.52               2                   159   \n",
       "\n",
       "   time_spend_company  Work_accident  left  promotion_last_5years  sales_IT  \\\n",
       "0                   3              0     1                      0         0   \n",
       "1                   6              0     1                      0         0   \n",
       "2                   4              0     1                      0         0   \n",
       "3                   5              0     1                      0         0   \n",
       "4                   3              0     1                      0         0   \n",
       "\n",
       "   sales_RandD      ...        sales_hr  sales_management  sales_marketing  \\\n",
       "0            0      ...               0                 0                0   \n",
       "1            0      ...               0                 0                0   \n",
       "2            0      ...               0                 0                0   \n",
       "3            0      ...               0                 0                0   \n",
       "4            0      ...               0                 0                0   \n",
       "\n",
       "   sales_product_mng  sales_sales  sales_support  sales_technical  \\\n",
       "0                  0            1              0                0   \n",
       "1                  0            1              0                0   \n",
       "2                  0            1              0                0   \n",
       "3                  0            1              0                0   \n",
       "4                  0            1              0                0   \n",
       "\n",
       "   salary_high  salary_low  salary_medium  \n",
       "0            0           1              0  \n",
       "1            0           0              1  \n",
       "2            0           0              1  \n",
       "3            0           1              0  \n",
       "4            0           1              0  \n",
       "\n",
       "[5 rows x 21 columns]"
      ]
     },
     "execution_count": 5,
     "metadata": {},
     "output_type": "execute_result"
    }
   ],
   "source": [
    "# Convert categorical columns to binary representations\n",
    "hr_data_with_dummies = pd.get_dummies(data=hr_data, columns = ['sales', 'salary'], prefix = ['sales', 'salary'] )\n",
    "hr_data_with_dummies.head()\n",
    "\n",
    "\n",
    "\n"
   ]
  },
  {
   "cell_type": "code",
   "execution_count": 6,
   "metadata": {
    "ExecuteTime": {
     "end_time": "2018-04-03T00:56:58.868877Z",
     "start_time": "2018-04-03T00:56:58.367824Z"
    }
   },
   "outputs": [
    {
     "data": {
      "text/html": [
       "<div>\n",
       "<style scoped>\n",
       "    .dataframe tbody tr th:only-of-type {\n",
       "        vertical-align: middle;\n",
       "    }\n",
       "\n",
       "    .dataframe tbody tr th {\n",
       "        vertical-align: top;\n",
       "    }\n",
       "\n",
       "    .dataframe thead th {\n",
       "        text-align: right;\n",
       "    }\n",
       "</style>\n",
       "<table border=\"1\" class=\"dataframe\">\n",
       "  <thead>\n",
       "    <tr style=\"text-align: right;\">\n",
       "      <th></th>\n",
       "      <th>satisfaction_level</th>\n",
       "      <th>last_evaluation</th>\n",
       "      <th>number_project</th>\n",
       "      <th>average_montly_hours</th>\n",
       "      <th>time_spend_company</th>\n",
       "      <th>Work_accident</th>\n",
       "      <th>left</th>\n",
       "      <th>promotion_last_5years</th>\n",
       "      <th>sales_IT</th>\n",
       "      <th>sales_RandD</th>\n",
       "      <th>...</th>\n",
       "      <th>sales_hr</th>\n",
       "      <th>sales_management</th>\n",
       "      <th>sales_marketing</th>\n",
       "      <th>sales_product_mng</th>\n",
       "      <th>sales_sales</th>\n",
       "      <th>sales_support</th>\n",
       "      <th>sales_technical</th>\n",
       "      <th>salary_high</th>\n",
       "      <th>salary_low</th>\n",
       "      <th>salary_medium</th>\n",
       "    </tr>\n",
       "  </thead>\n",
       "  <tbody>\n",
       "    <tr>\n",
       "      <th>satisfaction_level</th>\n",
       "      <td>1.000000</td>\n",
       "      <td>0.105021</td>\n",
       "      <td>-0.142970</td>\n",
       "      <td>-0.020048</td>\n",
       "      <td>-0.100866</td>\n",
       "      <td>0.058697</td>\n",
       "      <td>-0.388375</td>\n",
       "      <td>0.025605</td>\n",
       "      <td>0.006373</td>\n",
       "      <td>0.006615</td>\n",
       "      <td>...</td>\n",
       "      <td>-0.012841</td>\n",
       "      <td>0.007172</td>\n",
       "      <td>0.005715</td>\n",
       "      <td>0.006919</td>\n",
       "      <td>0.004007</td>\n",
       "      <td>0.009185</td>\n",
       "      <td>-0.009345</td>\n",
       "      <td>0.029708</td>\n",
       "      <td>-0.047415</td>\n",
       "      <td>0.031367</td>\n",
       "    </tr>\n",
       "    <tr>\n",
       "      <th>last_evaluation</th>\n",
       "      <td>0.105021</td>\n",
       "      <td>1.000000</td>\n",
       "      <td>0.349333</td>\n",
       "      <td>0.339742</td>\n",
       "      <td>0.131591</td>\n",
       "      <td>-0.007104</td>\n",
       "      <td>0.006567</td>\n",
       "      <td>-0.008684</td>\n",
       "      <td>0.001269</td>\n",
       "      <td>-0.005471</td>\n",
       "      <td>...</td>\n",
       "      <td>-0.009645</td>\n",
       "      <td>0.009662</td>\n",
       "      <td>-0.000311</td>\n",
       "      <td>-0.001989</td>\n",
       "      <td>-0.023031</td>\n",
       "      <td>0.017104</td>\n",
       "      <td>0.013742</td>\n",
       "      <td>-0.020628</td>\n",
       "      <td>0.005221</td>\n",
       "      <td>0.006191</td>\n",
       "    </tr>\n",
       "    <tr>\n",
       "      <th>number_project</th>\n",
       "      <td>-0.142970</td>\n",
       "      <td>0.349333</td>\n",
       "      <td>1.000000</td>\n",
       "      <td>0.417211</td>\n",
       "      <td>0.196786</td>\n",
       "      <td>-0.004741</td>\n",
       "      <td>0.023787</td>\n",
       "      <td>-0.006064</td>\n",
       "      <td>0.003287</td>\n",
       "      <td>0.009703</td>\n",
       "      <td>...</td>\n",
       "      <td>-0.027356</td>\n",
       "      <td>0.009728</td>\n",
       "      <td>-0.023064</td>\n",
       "      <td>0.000829</td>\n",
       "      <td>-0.013388</td>\n",
       "      <td>0.000303</td>\n",
       "      <td>0.028596</td>\n",
       "      <td>-0.008726</td>\n",
       "      <td>-0.002504</td>\n",
       "      <td>0.007377</td>\n",
       "    </tr>\n",
       "    <tr>\n",
       "      <th>average_montly_hours</th>\n",
       "      <td>-0.020048</td>\n",
       "      <td>0.339742</td>\n",
       "      <td>0.417211</td>\n",
       "      <td>1.000000</td>\n",
       "      <td>0.127755</td>\n",
       "      <td>-0.010143</td>\n",
       "      <td>0.071287</td>\n",
       "      <td>-0.003544</td>\n",
       "      <td>0.006967</td>\n",
       "      <td>-0.001177</td>\n",
       "      <td>...</td>\n",
       "      <td>-0.010783</td>\n",
       "      <td>0.000834</td>\n",
       "      <td>-0.008210</td>\n",
       "      <td>-0.005494</td>\n",
       "      <td>-0.001718</td>\n",
       "      <td>-0.002444</td>\n",
       "      <td>0.013638</td>\n",
       "      <td>-0.007101</td>\n",
       "      <td>-0.001050</td>\n",
       "      <td>0.005007</td>\n",
       "    </tr>\n",
       "    <tr>\n",
       "      <th>time_spend_company</th>\n",
       "      <td>-0.100866</td>\n",
       "      <td>0.131591</td>\n",
       "      <td>0.196786</td>\n",
       "      <td>0.127755</td>\n",
       "      <td>1.000000</td>\n",
       "      <td>0.002120</td>\n",
       "      <td>0.144822</td>\n",
       "      <td>0.067433</td>\n",
       "      <td>-0.006053</td>\n",
       "      <td>-0.021116</td>\n",
       "      <td>...</td>\n",
       "      <td>-0.022194</td>\n",
       "      <td>0.115436</td>\n",
       "      <td>0.012096</td>\n",
       "      <td>-0.003919</td>\n",
       "      <td>0.015150</td>\n",
       "      <td>-0.030111</td>\n",
       "      <td>-0.027991</td>\n",
       "      <td>0.039953</td>\n",
       "      <td>-0.040110</td>\n",
       "      <td>0.018299</td>\n",
       "    </tr>\n",
       "    <tr>\n",
       "      <th>Work_accident</th>\n",
       "      <td>0.058697</td>\n",
       "      <td>-0.007104</td>\n",
       "      <td>-0.004741</td>\n",
       "      <td>-0.010143</td>\n",
       "      <td>0.002120</td>\n",
       "      <td>1.000000</td>\n",
       "      <td>-0.154622</td>\n",
       "      <td>0.039245</td>\n",
       "      <td>-0.009293</td>\n",
       "      <td>0.017167</td>\n",
       "      <td>...</td>\n",
       "      <td>-0.015649</td>\n",
       "      <td>0.011242</td>\n",
       "      <td>0.011367</td>\n",
       "      <td>0.001246</td>\n",
       "      <td>-0.004955</td>\n",
       "      <td>0.012079</td>\n",
       "      <td>-0.006070</td>\n",
       "      <td>0.009040</td>\n",
       "      <td>-0.006813</td>\n",
       "      <td>0.001856</td>\n",
       "    </tr>\n",
       "    <tr>\n",
       "      <th>left</th>\n",
       "      <td>-0.388375</td>\n",
       "      <td>0.006567</td>\n",
       "      <td>0.023787</td>\n",
       "      <td>0.071287</td>\n",
       "      <td>0.144822</td>\n",
       "      <td>-0.154622</td>\n",
       "      <td>1.000000</td>\n",
       "      <td>-0.061788</td>\n",
       "      <td>-0.010925</td>\n",
       "      <td>-0.046596</td>\n",
       "      <td>...</td>\n",
       "      <td>0.028249</td>\n",
       "      <td>-0.046035</td>\n",
       "      <td>-0.000859</td>\n",
       "      <td>-0.011029</td>\n",
       "      <td>0.009923</td>\n",
       "      <td>0.010700</td>\n",
       "      <td>0.020076</td>\n",
       "      <td>-0.120929</td>\n",
       "      <td>0.134722</td>\n",
       "      <td>-0.068833</td>\n",
       "    </tr>\n",
       "    <tr>\n",
       "      <th>promotion_last_5years</th>\n",
       "      <td>0.025605</td>\n",
       "      <td>-0.008684</td>\n",
       "      <td>-0.006064</td>\n",
       "      <td>-0.003544</td>\n",
       "      <td>0.067433</td>\n",
       "      <td>0.039245</td>\n",
       "      <td>-0.061788</td>\n",
       "      <td>1.000000</td>\n",
       "      <td>-0.038942</td>\n",
       "      <td>0.021268</td>\n",
       "      <td>...</td>\n",
       "      <td>-0.001531</td>\n",
       "      <td>0.128087</td>\n",
       "      <td>0.049253</td>\n",
       "      <td>-0.037288</td>\n",
       "      <td>0.012353</td>\n",
       "      <td>-0.035605</td>\n",
       "      <td>-0.035799</td>\n",
       "      <td>0.076756</td>\n",
       "      <td>-0.082832</td>\n",
       "      <td>0.040985</td>\n",
       "    </tr>\n",
       "    <tr>\n",
       "      <th>sales_IT</th>\n",
       "      <td>0.006373</td>\n",
       "      <td>0.001269</td>\n",
       "      <td>0.003287</td>\n",
       "      <td>0.006967</td>\n",
       "      <td>-0.006053</td>\n",
       "      <td>-0.009293</td>\n",
       "      <td>-0.010925</td>\n",
       "      <td>-0.038942</td>\n",
       "      <td>1.000000</td>\n",
       "      <td>-0.070240</td>\n",
       "      <td>...</td>\n",
       "      <td>-0.067949</td>\n",
       "      <td>-0.062500</td>\n",
       "      <td>-0.073524</td>\n",
       "      <td>-0.075503</td>\n",
       "      <td>-0.184302</td>\n",
       "      <td>-0.124705</td>\n",
       "      <td>-0.140484</td>\n",
       "      <td>-0.016089</td>\n",
       "      <td>0.005116</td>\n",
       "      <td>0.003775</td>\n",
       "    </tr>\n",
       "    <tr>\n",
       "      <th>sales_RandD</th>\n",
       "      <td>0.006615</td>\n",
       "      <td>-0.005471</td>\n",
       "      <td>0.009703</td>\n",
       "      <td>-0.001177</td>\n",
       "      <td>-0.021116</td>\n",
       "      <td>0.017167</td>\n",
       "      <td>-0.046596</td>\n",
       "      <td>0.021268</td>\n",
       "      <td>-0.070240</td>\n",
       "      <td>1.000000</td>\n",
       "      <td>...</td>\n",
       "      <td>-0.053570</td>\n",
       "      <td>-0.049274</td>\n",
       "      <td>-0.057965</td>\n",
       "      <td>-0.059525</td>\n",
       "      <td>-0.145300</td>\n",
       "      <td>-0.098315</td>\n",
       "      <td>-0.110755</td>\n",
       "      <td>-0.015115</td>\n",
       "      <td>-0.011887</td>\n",
       "      <td>0.020402</td>\n",
       "    </tr>\n",
       "    <tr>\n",
       "      <th>sales_accounting</th>\n",
       "      <td>-0.028649</td>\n",
       "      <td>0.002193</td>\n",
       "      <td>0.004189</td>\n",
       "      <td>0.000524</td>\n",
       "      <td>0.003909</td>\n",
       "      <td>-0.012836</td>\n",
       "      <td>0.015201</td>\n",
       "      <td>-0.004852</td>\n",
       "      <td>-0.069293</td>\n",
       "      <td>-0.054629</td>\n",
       "      <td>...</td>\n",
       "      <td>-0.052848</td>\n",
       "      <td>-0.048610</td>\n",
       "      <td>-0.057183</td>\n",
       "      <td>-0.058723</td>\n",
       "      <td>-0.143341</td>\n",
       "      <td>-0.096989</td>\n",
       "      <td>-0.109262</td>\n",
       "      <td>0.011821</td>\n",
       "      <td>-0.009759</td>\n",
       "      <td>0.003285</td>\n",
       "    </tr>\n",
       "    <tr>\n",
       "      <th>sales_hr</th>\n",
       "      <td>-0.012841</td>\n",
       "      <td>-0.009645</td>\n",
       "      <td>-0.027356</td>\n",
       "      <td>-0.010783</td>\n",
       "      <td>-0.022194</td>\n",
       "      <td>-0.015649</td>\n",
       "      <td>0.028249</td>\n",
       "      <td>-0.001531</td>\n",
       "      <td>-0.067949</td>\n",
       "      <td>-0.053570</td>\n",
       "      <td>...</td>\n",
       "      <td>1.000000</td>\n",
       "      <td>-0.047667</td>\n",
       "      <td>-0.056075</td>\n",
       "      <td>-0.057584</td>\n",
       "      <td>-0.140562</td>\n",
       "      <td>-0.095109</td>\n",
       "      <td>-0.107143</td>\n",
       "      <td>-0.017858</td>\n",
       "      <td>-0.015690</td>\n",
       "      <td>0.025765</td>\n",
       "    </tr>\n",
       "    <tr>\n",
       "      <th>sales_management</th>\n",
       "      <td>0.007172</td>\n",
       "      <td>0.009662</td>\n",
       "      <td>0.009728</td>\n",
       "      <td>0.000834</td>\n",
       "      <td>0.115436</td>\n",
       "      <td>0.011242</td>\n",
       "      <td>-0.046035</td>\n",
       "      <td>0.128087</td>\n",
       "      <td>-0.062500</td>\n",
       "      <td>-0.049274</td>\n",
       "      <td>...</td>\n",
       "      <td>-0.047667</td>\n",
       "      <td>1.000000</td>\n",
       "      <td>-0.051578</td>\n",
       "      <td>-0.052966</td>\n",
       "      <td>-0.129289</td>\n",
       "      <td>-0.087482</td>\n",
       "      <td>-0.098551</td>\n",
       "      <td>0.209077</td>\n",
       "      <td>-0.084641</td>\n",
       "      <td>-0.030716</td>\n",
       "    </tr>\n",
       "    <tr>\n",
       "      <th>sales_marketing</th>\n",
       "      <td>0.005715</td>\n",
       "      <td>-0.000311</td>\n",
       "      <td>-0.023064</td>\n",
       "      <td>-0.008210</td>\n",
       "      <td>0.012096</td>\n",
       "      <td>0.011367</td>\n",
       "      <td>-0.000859</td>\n",
       "      <td>0.049253</td>\n",
       "      <td>-0.073524</td>\n",
       "      <td>-0.057965</td>\n",
       "      <td>...</td>\n",
       "      <td>-0.056075</td>\n",
       "      <td>-0.051578</td>\n",
       "      <td>1.000000</td>\n",
       "      <td>-0.062308</td>\n",
       "      <td>-0.152093</td>\n",
       "      <td>-0.102911</td>\n",
       "      <td>-0.115933</td>\n",
       "      <td>0.009642</td>\n",
       "      <td>-0.009479</td>\n",
       "      <td>0.004213</td>\n",
       "    </tr>\n",
       "    <tr>\n",
       "      <th>sales_product_mng</th>\n",
       "      <td>0.006919</td>\n",
       "      <td>-0.001989</td>\n",
       "      <td>0.000829</td>\n",
       "      <td>-0.005494</td>\n",
       "      <td>-0.003919</td>\n",
       "      <td>0.001246</td>\n",
       "      <td>-0.011029</td>\n",
       "      <td>-0.037288</td>\n",
       "      <td>-0.075503</td>\n",
       "      <td>-0.059525</td>\n",
       "      <td>...</td>\n",
       "      <td>-0.057584</td>\n",
       "      <td>-0.052966</td>\n",
       "      <td>-0.062308</td>\n",
       "      <td>1.000000</td>\n",
       "      <td>-0.156187</td>\n",
       "      <td>-0.105682</td>\n",
       "      <td>-0.119054</td>\n",
       "      <td>-0.006514</td>\n",
       "      <td>0.006191</td>\n",
       "      <td>-0.002632</td>\n",
       "    </tr>\n",
       "    <tr>\n",
       "      <th>sales_sales</th>\n",
       "      <td>0.004007</td>\n",
       "      <td>-0.023031</td>\n",
       "      <td>-0.013388</td>\n",
       "      <td>-0.001718</td>\n",
       "      <td>0.015150</td>\n",
       "      <td>-0.004955</td>\n",
       "      <td>0.009923</td>\n",
       "      <td>0.012353</td>\n",
       "      <td>-0.184302</td>\n",
       "      <td>-0.145300</td>\n",
       "      <td>...</td>\n",
       "      <td>-0.140562</td>\n",
       "      <td>-0.129289</td>\n",
       "      <td>-0.152093</td>\n",
       "      <td>-0.156187</td>\n",
       "      <td>1.000000</td>\n",
       "      <td>-0.257967</td>\n",
       "      <td>-0.290608</td>\n",
       "      <td>-0.039273</td>\n",
       "      <td>0.023766</td>\n",
       "      <td>-0.002174</td>\n",
       "    </tr>\n",
       "    <tr>\n",
       "      <th>sales_support</th>\n",
       "      <td>0.009185</td>\n",
       "      <td>0.017104</td>\n",
       "      <td>0.000303</td>\n",
       "      <td>-0.002444</td>\n",
       "      <td>-0.030111</td>\n",
       "      <td>0.012079</td>\n",
       "      <td>0.010700</td>\n",
       "      <td>-0.035605</td>\n",
       "      <td>-0.124705</td>\n",
       "      <td>-0.098315</td>\n",
       "      <td>...</td>\n",
       "      <td>-0.095109</td>\n",
       "      <td>-0.087482</td>\n",
       "      <td>-0.102911</td>\n",
       "      <td>-0.105682</td>\n",
       "      <td>-0.257967</td>\n",
       "      <td>1.000000</td>\n",
       "      <td>-0.196636</td>\n",
       "      <td>-0.029184</td>\n",
       "      <td>0.022038</td>\n",
       "      <td>-0.006035</td>\n",
       "    </tr>\n",
       "    <tr>\n",
       "      <th>sales_technical</th>\n",
       "      <td>-0.009345</td>\n",
       "      <td>0.013742</td>\n",
       "      <td>0.028596</td>\n",
       "      <td>0.013638</td>\n",
       "      <td>-0.027991</td>\n",
       "      <td>-0.006070</td>\n",
       "      <td>0.020076</td>\n",
       "      <td>-0.035799</td>\n",
       "      <td>-0.140484</td>\n",
       "      <td>-0.110755</td>\n",
       "      <td>...</td>\n",
       "      <td>-0.107143</td>\n",
       "      <td>-0.098551</td>\n",
       "      <td>-0.115933</td>\n",
       "      <td>-0.119054</td>\n",
       "      <td>-0.290608</td>\n",
       "      <td>-0.196636</td>\n",
       "      <td>1.000000</td>\n",
       "      <td>-0.014672</td>\n",
       "      <td>0.015674</td>\n",
       "      <td>-0.007673</td>\n",
       "    </tr>\n",
       "    <tr>\n",
       "      <th>salary_high</th>\n",
       "      <td>0.029708</td>\n",
       "      <td>-0.020628</td>\n",
       "      <td>-0.008726</td>\n",
       "      <td>-0.007101</td>\n",
       "      <td>0.039953</td>\n",
       "      <td>0.009040</td>\n",
       "      <td>-0.120929</td>\n",
       "      <td>0.076756</td>\n",
       "      <td>-0.016089</td>\n",
       "      <td>-0.015115</td>\n",
       "      <td>...</td>\n",
       "      <td>-0.017858</td>\n",
       "      <td>0.209077</td>\n",
       "      <td>0.009642</td>\n",
       "      <td>-0.006514</td>\n",
       "      <td>-0.039273</td>\n",
       "      <td>-0.029184</td>\n",
       "      <td>-0.014672</td>\n",
       "      <td>1.000000</td>\n",
       "      <td>-0.292560</td>\n",
       "      <td>-0.260274</td>\n",
       "    </tr>\n",
       "    <tr>\n",
       "      <th>salary_low</th>\n",
       "      <td>-0.047415</td>\n",
       "      <td>0.005221</td>\n",
       "      <td>-0.002504</td>\n",
       "      <td>-0.001050</td>\n",
       "      <td>-0.040110</td>\n",
       "      <td>-0.006813</td>\n",
       "      <td>0.134722</td>\n",
       "      <td>-0.082832</td>\n",
       "      <td>0.005116</td>\n",
       "      <td>-0.011887</td>\n",
       "      <td>...</td>\n",
       "      <td>-0.015690</td>\n",
       "      <td>-0.084641</td>\n",
       "      <td>-0.009479</td>\n",
       "      <td>0.006191</td>\n",
       "      <td>0.023766</td>\n",
       "      <td>0.022038</td>\n",
       "      <td>0.015674</td>\n",
       "      <td>-0.292560</td>\n",
       "      <td>1.000000</td>\n",
       "      <td>-0.847144</td>\n",
       "    </tr>\n",
       "    <tr>\n",
       "      <th>salary_medium</th>\n",
       "      <td>0.031367</td>\n",
       "      <td>0.006191</td>\n",
       "      <td>0.007377</td>\n",
       "      <td>0.005007</td>\n",
       "      <td>0.018299</td>\n",
       "      <td>0.001856</td>\n",
       "      <td>-0.068833</td>\n",
       "      <td>0.040985</td>\n",
       "      <td>0.003775</td>\n",
       "      <td>0.020402</td>\n",
       "      <td>...</td>\n",
       "      <td>0.025765</td>\n",
       "      <td>-0.030716</td>\n",
       "      <td>0.004213</td>\n",
       "      <td>-0.002632</td>\n",
       "      <td>-0.002174</td>\n",
       "      <td>-0.006035</td>\n",
       "      <td>-0.007673</td>\n",
       "      <td>-0.260274</td>\n",
       "      <td>-0.847144</td>\n",
       "      <td>1.000000</td>\n",
       "    </tr>\n",
       "  </tbody>\n",
       "</table>\n",
       "<p>21 rows × 21 columns</p>\n",
       "</div>"
      ],
      "text/plain": [
       "                       satisfaction_level  last_evaluation  number_project  \\\n",
       "satisfaction_level               1.000000         0.105021       -0.142970   \n",
       "last_evaluation                  0.105021         1.000000        0.349333   \n",
       "number_project                  -0.142970         0.349333        1.000000   \n",
       "average_montly_hours            -0.020048         0.339742        0.417211   \n",
       "time_spend_company              -0.100866         0.131591        0.196786   \n",
       "Work_accident                    0.058697        -0.007104       -0.004741   \n",
       "left                            -0.388375         0.006567        0.023787   \n",
       "promotion_last_5years            0.025605        -0.008684       -0.006064   \n",
       "sales_IT                         0.006373         0.001269        0.003287   \n",
       "sales_RandD                      0.006615        -0.005471        0.009703   \n",
       "sales_accounting                -0.028649         0.002193        0.004189   \n",
       "sales_hr                        -0.012841        -0.009645       -0.027356   \n",
       "sales_management                 0.007172         0.009662        0.009728   \n",
       "sales_marketing                  0.005715        -0.000311       -0.023064   \n",
       "sales_product_mng                0.006919        -0.001989        0.000829   \n",
       "sales_sales                      0.004007        -0.023031       -0.013388   \n",
       "sales_support                    0.009185         0.017104        0.000303   \n",
       "sales_technical                 -0.009345         0.013742        0.028596   \n",
       "salary_high                      0.029708        -0.020628       -0.008726   \n",
       "salary_low                      -0.047415         0.005221       -0.002504   \n",
       "salary_medium                    0.031367         0.006191        0.007377   \n",
       "\n",
       "                       average_montly_hours  time_spend_company  \\\n",
       "satisfaction_level                -0.020048           -0.100866   \n",
       "last_evaluation                    0.339742            0.131591   \n",
       "number_project                     0.417211            0.196786   \n",
       "average_montly_hours               1.000000            0.127755   \n",
       "time_spend_company                 0.127755            1.000000   \n",
       "Work_accident                     -0.010143            0.002120   \n",
       "left                               0.071287            0.144822   \n",
       "promotion_last_5years             -0.003544            0.067433   \n",
       "sales_IT                           0.006967           -0.006053   \n",
       "sales_RandD                       -0.001177           -0.021116   \n",
       "sales_accounting                   0.000524            0.003909   \n",
       "sales_hr                          -0.010783           -0.022194   \n",
       "sales_management                   0.000834            0.115436   \n",
       "sales_marketing                   -0.008210            0.012096   \n",
       "sales_product_mng                 -0.005494           -0.003919   \n",
       "sales_sales                       -0.001718            0.015150   \n",
       "sales_support                     -0.002444           -0.030111   \n",
       "sales_technical                    0.013638           -0.027991   \n",
       "salary_high                       -0.007101            0.039953   \n",
       "salary_low                        -0.001050           -0.040110   \n",
       "salary_medium                      0.005007            0.018299   \n",
       "\n",
       "                       Work_accident      left  promotion_last_5years  \\\n",
       "satisfaction_level          0.058697 -0.388375               0.025605   \n",
       "last_evaluation            -0.007104  0.006567              -0.008684   \n",
       "number_project             -0.004741  0.023787              -0.006064   \n",
       "average_montly_hours       -0.010143  0.071287              -0.003544   \n",
       "time_spend_company          0.002120  0.144822               0.067433   \n",
       "Work_accident               1.000000 -0.154622               0.039245   \n",
       "left                       -0.154622  1.000000              -0.061788   \n",
       "promotion_last_5years       0.039245 -0.061788               1.000000   \n",
       "sales_IT                   -0.009293 -0.010925              -0.038942   \n",
       "sales_RandD                 0.017167 -0.046596               0.021268   \n",
       "sales_accounting           -0.012836  0.015201              -0.004852   \n",
       "sales_hr                   -0.015649  0.028249              -0.001531   \n",
       "sales_management            0.011242 -0.046035               0.128087   \n",
       "sales_marketing             0.011367 -0.000859               0.049253   \n",
       "sales_product_mng           0.001246 -0.011029              -0.037288   \n",
       "sales_sales                -0.004955  0.009923               0.012353   \n",
       "sales_support               0.012079  0.010700              -0.035605   \n",
       "sales_technical            -0.006070  0.020076              -0.035799   \n",
       "salary_high                 0.009040 -0.120929               0.076756   \n",
       "salary_low                 -0.006813  0.134722              -0.082832   \n",
       "salary_medium               0.001856 -0.068833               0.040985   \n",
       "\n",
       "                       sales_IT  sales_RandD      ...        sales_hr  \\\n",
       "satisfaction_level     0.006373     0.006615      ...       -0.012841   \n",
       "last_evaluation        0.001269    -0.005471      ...       -0.009645   \n",
       "number_project         0.003287     0.009703      ...       -0.027356   \n",
       "average_montly_hours   0.006967    -0.001177      ...       -0.010783   \n",
       "time_spend_company    -0.006053    -0.021116      ...       -0.022194   \n",
       "Work_accident         -0.009293     0.017167      ...       -0.015649   \n",
       "left                  -0.010925    -0.046596      ...        0.028249   \n",
       "promotion_last_5years -0.038942     0.021268      ...       -0.001531   \n",
       "sales_IT               1.000000    -0.070240      ...       -0.067949   \n",
       "sales_RandD           -0.070240     1.000000      ...       -0.053570   \n",
       "sales_accounting      -0.069293    -0.054629      ...       -0.052848   \n",
       "sales_hr              -0.067949    -0.053570      ...        1.000000   \n",
       "sales_management      -0.062500    -0.049274      ...       -0.047667   \n",
       "sales_marketing       -0.073524    -0.057965      ...       -0.056075   \n",
       "sales_product_mng     -0.075503    -0.059525      ...       -0.057584   \n",
       "sales_sales           -0.184302    -0.145300      ...       -0.140562   \n",
       "sales_support         -0.124705    -0.098315      ...       -0.095109   \n",
       "sales_technical       -0.140484    -0.110755      ...       -0.107143   \n",
       "salary_high           -0.016089    -0.015115      ...       -0.017858   \n",
       "salary_low             0.005116    -0.011887      ...       -0.015690   \n",
       "salary_medium          0.003775     0.020402      ...        0.025765   \n",
       "\n",
       "                       sales_management  sales_marketing  sales_product_mng  \\\n",
       "satisfaction_level             0.007172         0.005715           0.006919   \n",
       "last_evaluation                0.009662        -0.000311          -0.001989   \n",
       "number_project                 0.009728        -0.023064           0.000829   \n",
       "average_montly_hours           0.000834        -0.008210          -0.005494   \n",
       "time_spend_company             0.115436         0.012096          -0.003919   \n",
       "Work_accident                  0.011242         0.011367           0.001246   \n",
       "left                          -0.046035        -0.000859          -0.011029   \n",
       "promotion_last_5years          0.128087         0.049253          -0.037288   \n",
       "sales_IT                      -0.062500        -0.073524          -0.075503   \n",
       "sales_RandD                   -0.049274        -0.057965          -0.059525   \n",
       "sales_accounting              -0.048610        -0.057183          -0.058723   \n",
       "sales_hr                      -0.047667        -0.056075          -0.057584   \n",
       "sales_management               1.000000        -0.051578          -0.052966   \n",
       "sales_marketing               -0.051578         1.000000          -0.062308   \n",
       "sales_product_mng             -0.052966        -0.062308           1.000000   \n",
       "sales_sales                   -0.129289        -0.152093          -0.156187   \n",
       "sales_support                 -0.087482        -0.102911          -0.105682   \n",
       "sales_technical               -0.098551        -0.115933          -0.119054   \n",
       "salary_high                    0.209077         0.009642          -0.006514   \n",
       "salary_low                    -0.084641        -0.009479           0.006191   \n",
       "salary_medium                 -0.030716         0.004213          -0.002632   \n",
       "\n",
       "                       sales_sales  sales_support  sales_technical  \\\n",
       "satisfaction_level        0.004007       0.009185        -0.009345   \n",
       "last_evaluation          -0.023031       0.017104         0.013742   \n",
       "number_project           -0.013388       0.000303         0.028596   \n",
       "average_montly_hours     -0.001718      -0.002444         0.013638   \n",
       "time_spend_company        0.015150      -0.030111        -0.027991   \n",
       "Work_accident            -0.004955       0.012079        -0.006070   \n",
       "left                      0.009923       0.010700         0.020076   \n",
       "promotion_last_5years     0.012353      -0.035605        -0.035799   \n",
       "sales_IT                 -0.184302      -0.124705        -0.140484   \n",
       "sales_RandD              -0.145300      -0.098315        -0.110755   \n",
       "sales_accounting         -0.143341      -0.096989        -0.109262   \n",
       "sales_hr                 -0.140562      -0.095109        -0.107143   \n",
       "sales_management         -0.129289      -0.087482        -0.098551   \n",
       "sales_marketing          -0.152093      -0.102911        -0.115933   \n",
       "sales_product_mng        -0.156187      -0.105682        -0.119054   \n",
       "sales_sales               1.000000      -0.257967        -0.290608   \n",
       "sales_support            -0.257967       1.000000        -0.196636   \n",
       "sales_technical          -0.290608      -0.196636         1.000000   \n",
       "salary_high              -0.039273      -0.029184        -0.014672   \n",
       "salary_low                0.023766       0.022038         0.015674   \n",
       "salary_medium            -0.002174      -0.006035        -0.007673   \n",
       "\n",
       "                       salary_high  salary_low  salary_medium  \n",
       "satisfaction_level        0.029708   -0.047415       0.031367  \n",
       "last_evaluation          -0.020628    0.005221       0.006191  \n",
       "number_project           -0.008726   -0.002504       0.007377  \n",
       "average_montly_hours     -0.007101   -0.001050       0.005007  \n",
       "time_spend_company        0.039953   -0.040110       0.018299  \n",
       "Work_accident             0.009040   -0.006813       0.001856  \n",
       "left                     -0.120929    0.134722      -0.068833  \n",
       "promotion_last_5years     0.076756   -0.082832       0.040985  \n",
       "sales_IT                 -0.016089    0.005116       0.003775  \n",
       "sales_RandD              -0.015115   -0.011887       0.020402  \n",
       "sales_accounting          0.011821   -0.009759       0.003285  \n",
       "sales_hr                 -0.017858   -0.015690       0.025765  \n",
       "sales_management          0.209077   -0.084641      -0.030716  \n",
       "sales_marketing           0.009642   -0.009479       0.004213  \n",
       "sales_product_mng        -0.006514    0.006191      -0.002632  \n",
       "sales_sales              -0.039273    0.023766      -0.002174  \n",
       "sales_support            -0.029184    0.022038      -0.006035  \n",
       "sales_technical          -0.014672    0.015674      -0.007673  \n",
       "salary_high               1.000000   -0.292560      -0.260274  \n",
       "salary_low               -0.292560    1.000000      -0.847144  \n",
       "salary_medium            -0.260274   -0.847144       1.000000  \n",
       "\n",
       "[21 rows x 21 columns]"
      ]
     },
     "execution_count": 6,
     "metadata": {},
     "output_type": "execute_result"
    },
    {
     "data": {
      "image/png": "[encoded data removed]",
      "text/plain": [
       "<matplotlib.figure.Figure at 0x7fb34aea1390>"
      ]
     },
     "metadata": {},
     "output_type": "display_data"
    }
   ],
   "source": [
    "\n",
    "#Plot a Correlation Matrix\n",
    "corr = hr_data_with_dummies.corr()\n",
    "corr = (corr)\n",
    "sns.heatmap(corr, \n",
    "            xticklabels=corr.columns.values,\n",
    "            yticklabels=corr.columns.values)\n",
    "plt.title('Heatmap of Correlation Matrix')\n",
    "\n",
    "corr\n",
    "\n"
   ]
  },
  {
   "cell_type": "code",
   "execution_count": 8,
   "metadata": {
    "ExecuteTime": {
     "end_time": "2018-04-03T00:57:08.539236Z",
     "start_time": "2018-04-03T00:57:07.419371Z"
    }
   },
   "outputs": [
    {
     "data": {
      "text/plain": [
       "Text(0.5,1,'Heatmap of Correlation Matrix')"
      ]
     },
     "execution_count": 8,
     "metadata": {},
     "output_type": "execute_result"
    },
    {
     "data": {
      "image/png": "[encoded data removed]",
      "text/plain": [
       "<matplotlib.figure.Figure at 0x7fb34a95a0b8>"
      ]
     },
     "metadata": {},
     "output_type": "display_data"
    }
   ],
   "source": [
    "# Let's make that plot a bit larger\n",
    "plt.figure(figsize = (20,20))\n",
    "sns.heatmap(corr, \n",
    "            xticklabels=corr.columns.values,\n",
    "            yticklabels=corr.columns.values)\n",
    "plt.title('Heatmap of Correlation Matrix')"
   ]
  },
  {
   "cell_type": "code",
   "execution_count": 9,
   "metadata": {
    "ExecuteTime": {
     "end_time": "2018-04-03T00:57:11.555126Z",
     "start_time": "2018-04-03T00:57:11.525303Z"
    }
   },
   "outputs": [
    {
     "data": {
      "text/html": [
       "<div>\n",
       "<style scoped>\n",
       "    .dataframe tbody tr th:only-of-type {\n",
       "        vertical-align: middle;\n",
       "    }\n",
       "\n",
       "    .dataframe tbody tr th {\n",
       "        vertical-align: top;\n",
       "    }\n",
       "\n",
       "    .dataframe thead th {\n",
       "        text-align: right;\n",
       "    }\n",
       "</style>\n",
       "<table border=\"1\" class=\"dataframe\">\n",
       "  <thead>\n",
       "    <tr style=\"text-align: right;\">\n",
       "      <th></th>\n",
       "      <th>left</th>\n",
       "    </tr>\n",
       "  </thead>\n",
       "  <tbody>\n",
       "    <tr>\n",
       "      <th>time_spend_company</th>\n",
       "      <td>0.144822</td>\n",
       "    </tr>\n",
       "    <tr>\n",
       "      <th>salary_low</th>\n",
       "      <td>0.134722</td>\n",
       "    </tr>\n",
       "    <tr>\n",
       "      <th>average_montly_hours</th>\n",
       "      <td>0.071287</td>\n",
       "    </tr>\n",
       "    <tr>\n",
       "      <th>sales_hr</th>\n",
       "      <td>0.028249</td>\n",
       "    </tr>\n",
       "    <tr>\n",
       "      <th>number_project</th>\n",
       "      <td>0.023787</td>\n",
       "    </tr>\n",
       "    <tr>\n",
       "      <th>sales_technical</th>\n",
       "      <td>0.020076</td>\n",
       "    </tr>\n",
       "    <tr>\n",
       "      <th>sales_accounting</th>\n",
       "      <td>0.015201</td>\n",
       "    </tr>\n",
       "    <tr>\n",
       "      <th>sales_support</th>\n",
       "      <td>0.010700</td>\n",
       "    </tr>\n",
       "    <tr>\n",
       "      <th>sales_sales</th>\n",
       "      <td>0.009923</td>\n",
       "    </tr>\n",
       "    <tr>\n",
       "      <th>last_evaluation</th>\n",
       "      <td>0.006567</td>\n",
       "    </tr>\n",
       "    <tr>\n",
       "      <th>sales_marketing</th>\n",
       "      <td>-0.000859</td>\n",
       "    </tr>\n",
       "    <tr>\n",
       "      <th>sales_IT</th>\n",
       "      <td>-0.010925</td>\n",
       "    </tr>\n",
       "    <tr>\n",
       "      <th>sales_product_mng</th>\n",
       "      <td>-0.011029</td>\n",
       "    </tr>\n",
       "    <tr>\n",
       "      <th>sales_management</th>\n",
       "      <td>-0.046035</td>\n",
       "    </tr>\n",
       "    <tr>\n",
       "      <th>sales_RandD</th>\n",
       "      <td>-0.046596</td>\n",
       "    </tr>\n",
       "    <tr>\n",
       "      <th>promotion_last_5years</th>\n",
       "      <td>-0.061788</td>\n",
       "    </tr>\n",
       "    <tr>\n",
       "      <th>salary_medium</th>\n",
       "      <td>-0.068833</td>\n",
       "    </tr>\n",
       "    <tr>\n",
       "      <th>salary_high</th>\n",
       "      <td>-0.120929</td>\n",
       "    </tr>\n",
       "    <tr>\n",
       "      <th>Work_accident</th>\n",
       "      <td>-0.154622</td>\n",
       "    </tr>\n",
       "    <tr>\n",
       "      <th>satisfaction_level</th>\n",
       "      <td>-0.388375</td>\n",
       "    </tr>\n",
       "  </tbody>\n",
       "</table>\n",
       "</div>"
      ],
      "text/plain": [
       "                           left\n",
       "time_spend_company     0.144822\n",
       "salary_low             0.134722\n",
       "average_montly_hours   0.071287\n",
       "sales_hr               0.028249\n",
       "number_project         0.023787\n",
       "sales_technical        0.020076\n",
       "sales_accounting       0.015201\n",
       "sales_support          0.010700\n",
       "sales_sales            0.009923\n",
       "last_evaluation        0.006567\n",
       "sales_marketing       -0.000859\n",
       "sales_IT              -0.010925\n",
       "sales_product_mng     -0.011029\n",
       "sales_management      -0.046035\n",
       "sales_RandD           -0.046596\n",
       "promotion_last_5years -0.061788\n",
       "salary_medium         -0.068833\n",
       "salary_high           -0.120929\n",
       "Work_accident         -0.154622\n",
       "satisfaction_level    -0.388375"
      ]
     },
     "execution_count": 9,
     "metadata": {},
     "output_type": "execute_result"
    }
   ],
   "source": [
    "#Extract 'left' column, because 'left' is our target value\n",
    "corr_left = pd.DataFrame(corr['left'].drop('left'))\n",
    "corr_left.sort_values(by = 'left', ascending = False)\n",
    "\n",
    "\n"
   ]
  },
  {
   "cell_type": "markdown",
   "metadata": {},
   "source": [
    "#### Important !!!\n",
    "The correlation only shows us a linear correlation between variables and you should only use this as a rough guide to gain an understanding of the dataset. This is just an exploratory measure."
   ]
  },
  {
   "cell_type": "code",
   "execution_count": 10,
   "metadata": {
    "ExecuteTime": {
     "end_time": "2018-04-03T00:57:15.468823Z",
     "start_time": "2018-04-03T00:57:15.200609Z"
    }
   },
   "outputs": [
    {
     "data": {
      "text/html": [
       "<div>\n",
       "<style scoped>\n",
       "    .dataframe tbody tr th:only-of-type {\n",
       "        vertical-align: middle;\n",
       "    }\n",
       "\n",
       "    .dataframe tbody tr th {\n",
       "        vertical-align: top;\n",
       "    }\n",
       "\n",
       "    .dataframe thead th {\n",
       "        text-align: right;\n",
       "    }\n",
       "</style>\n",
       "<table border=\"1\" class=\"dataframe\">\n",
       "  <thead>\n",
       "    <tr style=\"text-align: right;\">\n",
       "      <th></th>\n",
       "      <th>time_spend_company</th>\n",
       "      <th>promotion_last_5years</th>\n",
       "      <th>satisfaction_level</th>\n",
       "      <th>last_evaluation</th>\n",
       "      <th>number_project</th>\n",
       "      <th>average_montly_hours</th>\n",
       "      <th>Work_accident</th>\n",
       "      <th>left</th>\n",
       "      <th>sales</th>\n",
       "      <th>salary</th>\n",
       "    </tr>\n",
       "  </thead>\n",
       "  <tbody>\n",
       "    <tr>\n",
       "      <th>2</th>\n",
       "      <td>3</td>\n",
       "      <td>0</td>\n",
       "      <td>6309</td>\n",
       "      <td>6309</td>\n",
       "      <td>6309</td>\n",
       "      <td>6309</td>\n",
       "      <td>6309</td>\n",
       "      <td>6309</td>\n",
       "      <td>6309</td>\n",
       "      <td>6309</td>\n",
       "    </tr>\n",
       "  </tbody>\n",
       "</table>\n",
       "</div>"
      ],
      "text/plain": [
       "   time_spend_company  promotion_last_5years  satisfaction_level  \\\n",
       "2                   3                      0                6309   \n",
       "\n",
       "   last_evaluation  number_project  average_montly_hours  Work_accident  left  \\\n",
       "2             6309            6309                  6309           6309  6309   \n",
       "\n",
       "   sales  salary  \n",
       "2   6309    6309  "
      ]
     },
     "execution_count": 10,
     "metadata": {},
     "output_type": "execute_result"
    },
    {
     "data": {
      "image/png": "[encoded data removed]",
      "text/plain": [
       "<matplotlib.figure.Figure at 0x7fb34a722b00>"
      ]
     },
     "metadata": {},
     "output_type": "display_data"
    }
   ],
   "source": [
    "grp = hr_data.groupby(['time_spend_company', 'promotion_last_5years']).count().reset_index()\n",
    "features = ['time_spend_company', 'promotion_last_5years','left']\n",
    "sns.barplot(x='time_spend_company', y = 'left', hue = 'promotion_last_5years', data = grp)\n",
    "\n",
    "# Check it worked\n",
    "idx = (grp.time_spend_company == 3) & (grp.promotion_last_5years == 0) \n",
    "grp[idx]\n"
   ]
  },
  {
   "cell_type": "code",
   "execution_count": 12,
   "metadata": {
    "ExecuteTime": {
     "end_time": "2018-04-03T00:57:22.587983Z",
     "start_time": "2018-04-03T00:57:21.794627Z"
    }
   },
   "outputs": [
    {
     "data": {
      "text/plain": [
       "Text(0.5,1,'Plot of Tenure vs Promoted in last 5 years')"
      ]
     },
     "execution_count": 12,
     "metadata": {},
     "output_type": "execute_result"
    },
    {
     "data": {
      "image/png": "[encoded data removed]",
      "text/plain": [
       "<matplotlib.figure.Figure at 0x7fb34ae80710>"
      ]
     },
     "metadata": {},
     "output_type": "display_data"
    }
   ],
   "source": [
    "# Visualise the data to understand what might be happening with the employees leaving\n",
    "#time spend with promotion\n",
    "plt.figure(figsize = (10,6))\n",
    "sns.barplot(x='time_spend_company', y = 'left', hue = 'promotion_last_5years', data = hr_data)\n",
    "plt.title('Plot of Tenure vs Promoted in last 5 years')"
   ]
  },
  {
   "cell_type": "code",
   "execution_count": 13,
   "metadata": {
    "ExecuteTime": {
     "end_time": "2018-04-03T00:57:26.666120Z",
     "start_time": "2018-04-03T00:57:25.884851Z"
    }
   },
   "outputs": [
    {
     "data": {
      "text/plain": [
       "<matplotlib.axes._subplots.AxesSubplot at 0x7fb34ae80c88>"
      ]
     },
     "execution_count": 13,
     "metadata": {},
     "output_type": "execute_result"
    },
    {
     "data": {
      "image/png": "[encoded data removed]",
      "text/plain": [
       "<matplotlib.figure.Figure at 0x7fb34a5a1198>"
      ]
     },
     "metadata": {},
     "output_type": "display_data"
    }
   ],
   "source": [
    "# Visualise the data to understand what might be happening with the employees leaving\n",
    "#time spend with promotion\n",
    "plt.figure(figsize = (16,6))\n",
    "sns.barplot(x='sales', y = 'left', data = hr_data)\n",
    "\n"
   ]
  },
  {
   "cell_type": "code",
   "execution_count": 14,
   "metadata": {
    "ExecuteTime": {
     "end_time": "2018-04-03T00:57:27.811698Z",
     "start_time": "2018-04-03T00:57:27.430783Z"
    }
   },
   "outputs": [
    {
     "name": "stderr",
     "output_type": "stream",
     "text": [
      "/home/maianh/miniconda3/lib/python3.6/site-packages/seaborn/axisgrid.py:703: UserWarning: Using the boxplot function without specifying `order` is likely to produce an incorrect plot.\n",
      "  warnings.warn(warning)\n"
     ]
    },
    {
     "data": {
      "text/plain": [
       "<seaborn.axisgrid.FacetGrid at 0x7fb34a7eee10>"
      ]
     },
     "execution_count": 14,
     "metadata": {},
     "output_type": "execute_result"
    },
    {
     "data": {
      "image/png": "[encoded data removed]",
      "text/plain": [
       "<matplotlib.figure.Figure at 0x7fb348587b00>"
      ]
     },
     "metadata": {},
     "output_type": "display_data"
    }
   ],
   "source": [
    "#Boxplot of satisfaction level\n",
    "g = sns.FacetGrid(hr_data, col = 'left')\n",
    "g.map(sns.boxplot, 'satisfaction_level')"
   ]
  },
  {
   "cell_type": "code",
   "execution_count": null,
   "metadata": {
    "ExecuteTime": {
     "end_time": "2018-04-03T00:56:12.709429Z",
     "start_time": "2018-04-03T00:56:08.264Z"
    }
   },
   "outputs": [],
   "source": [
    "#Boxplot of last evaluation\n",
    "g = sns.FacetGrid(hr_data, col = 'left')\n",
    "g.map(sns.boxplot, 'last_evaluation')\n",
    "\n",
    "\n"
   ]
  },
  {
   "cell_type": "code",
   "execution_count": null,
   "metadata": {
    "ExecuteTime": {
     "end_time": "2018-04-03T00:56:12.710843Z",
     "start_time": "2018-04-03T00:56:08.267Z"
    }
   },
   "outputs": [],
   "source": [
    "data=hr_data\n",
    "plt.figure(figsize = (12,12))\n",
    "plt.subplot(1,2,1)\n",
    "plt.plot(data.satisfaction_level[data.left == 1],data.last_evaluation[data.left == 1],'o', alpha = 0.1)\n",
    "plt.ylabel('Last Evaluation')\n",
    "plt.title('Employees who left')\n",
    "plt.xlabel('Satisfaction level')\n",
    "\n",
    "plt.subplot(1,2,2)\n",
    "plt.title('Employees who stayed')\n",
    "plt.plot(data.satisfaction_level[data.left == 0],data.last_evaluation[data.left == 0],'o', alpha = 0.1)\n",
    "plt.xlim([0.4,1])\n",
    "plt.ylabel('Last Evaluation')\n",
    "plt.xlabel('Satisfaction level')"
   ]
  },
  {
   "cell_type": "code",
   "execution_count": null,
   "metadata": {
    "ExecuteTime": {
     "end_time": "2018-04-03T00:56:12.712275Z",
     "start_time": "2018-04-03T00:56:08.269Z"
    }
   },
   "outputs": [],
   "source": [
    "#Train-Test split\n",
    "from sklearn.model_selection import train_test_split\n",
    "data = hr_data_with_dummies.drop('left', 1)\n",
    "label = hr_data_with_dummies.left\n",
    "data_train, data_test, label_train, label_test = train_test_split(data, label, test_size = 0.2, random_state = 42)\n",
    "\n",
    "\n"
   ]
  },
  {
   "cell_type": "code",
   "execution_count": null,
   "metadata": {
    "ExecuteTime": {
     "end_time": "2018-04-03T00:56:12.713604Z",
     "start_time": "2018-04-03T00:56:08.273Z"
    }
   },
   "outputs": [],
   "source": [
    "# Decision tree\n",
    "from sklearn import tree\n",
    "dt = tree.DecisionTreeClassifier()\n",
    "dt.fit(data_train, label_train)\n",
    "dt_score_train = dt.score(data_train, label_train)\n",
    "print(\"Training score: \",dt_score_train)\n",
    "dt_score_test = dt.score(data_test, label_test)\n",
    "print(\"Testing score: \",dt_score_test)"
   ]
  },
  {
   "cell_type": "code",
   "execution_count": null,
   "metadata": {
    "ExecuteTime": {
     "end_time": "2018-04-03T00:56:12.715025Z",
     "start_time": "2018-04-03T00:56:08.276Z"
    }
   },
   "outputs": [],
   "source": [
    "# Install necessary packages\n",
    "! pip install graphviz\n",
    "! pip install pydot\n"
   ]
  },
  {
   "cell_type": "code",
   "execution_count": null,
   "metadata": {
    "ExecuteTime": {
     "end_time": "2018-04-03T00:56:12.716280Z",
     "start_time": "2018-04-03T00:56:08.280Z"
    }
   },
   "outputs": [],
   "source": [
    "from io import StringIO\n",
    "from sklearn.tree import export_graphviz\n",
    "\n",
    "out = StringIO()\n",
    "tree.export_graphviz(dt, out_file = out)\n",
    "# OUTPUT DOT LANGUAGE SCRIPTS\n",
    "print(out.getvalue())\n",
    "\n",
    "\n",
    "\n",
    "\n"
   ]
  },
  {
   "cell_type": "code",
   "execution_count": null,
   "metadata": {
    "ExecuteTime": {
     "end_time": "2018-04-03T00:56:12.717500Z",
     "start_time": "2018-04-03T00:56:08.283Z"
    }
   },
   "outputs": [],
   "source": [
    "# Create a feature vector\n",
    "features = hr_data_with_dummies.columns.tolist()\n",
    "features.remove('left')\n",
    "from sklearn.tree import export_graphviz\n",
    "tree.export_graphviz(dt, out_file='tree_hr_analysis.dot', feature_names=features)\n",
    "\n",
    "\n"
   ]
  },
  {
   "cell_type": "code",
   "execution_count": null,
   "metadata": {
    "ExecuteTime": {
     "end_time": "2018-04-03T00:56:12.719052Z",
     "start_time": "2018-04-03T00:56:08.286Z"
    }
   },
   "outputs": [],
   "source": [
    "print(features)"
   ]
  },
  {
   "cell_type": "markdown",
   "metadata": {},
   "source": [
    "#### Visualising the tree is a bit of a hassle... \n",
    "\n",
    "You can try copying and pasting the tree from the dot output into a tool like,\n",
    "(webgraphviz)[http://www.webgraphviz.com/].\n",
    "\n",
    "- What is the first thing you notice?"
   ]
  },
  {
   "cell_type": "code",
   "execution_count": null,
   "metadata": {
    "ExecuteTime": {
     "end_time": "2018-04-03T00:56:12.720366Z",
     "start_time": "2018-04-03T00:56:08.288Z"
    }
   },
   "outputs": [],
   "source": [
    "# Let's try running this with not as much depth\n",
    "# Decision tree\n",
    "from sklearn import tree\n",
    "dt = tree.DecisionTreeClassifier(random_state=1, max_depth=2)\n",
    "dt.fit(data_train, label_train)\n",
    "dt_score_train = dt.score(data_train, label_train)\n",
    "print(\"Training score: \",dt_score_train)\n",
    "dt_score_test = dt.score(data_test, label_test)\n",
    "print(\"Testing score: \",dt_score_test)\n",
    "\n",
    "# Create a feature vector\n",
    "features = hr_data_with_dummies.columns.tolist()\n",
    "\n",
    "from sklearn.tree import export_graphviz\n",
    "tree.export_graphviz(dt, out_file='tree_hr_analysis_smaller_tree.dot', feature_names=features)"
   ]
  },
  {
   "cell_type": "markdown",
   "metadata": {},
   "source": [
    "#### Now we've got something that's getting a bit more useful.\n",
    "\n",
    "Answer the following questions:\n",
    "- What's the most important feature?\n",
    "- How do we read the tree?\n",
    "- What are some of the things we could try to "
   ]
  },
  {
   "cell_type": "markdown",
   "metadata": {},
   "source": [
    "# Below are some further examples of how classification and regression trees work\n",
    "\n",
    "Run through the examples below and ask if you have any questions"
   ]
  },
  {
   "cell_type": "code",
   "execution_count": null,
   "metadata": {
    "ExecuteTime": {
     "end_time": "2018-04-03T00:56:12.721766Z",
     "start_time": "2018-04-03T00:56:08.292Z"
    }
   },
   "outputs": [],
   "source": [
    "'''\n",
    "\n",
    "Classification and Regression Trees\n",
    "\n",
    "'''\n",
    "from sklearn import tree\n",
    "import pandas as pd\n",
    "import numpy as np\n",
    "from sklearn.model_selection import train_test_split\n",
    "from sklearn import metrics\n",
    "import matplotlib.pyplot as plt\n",
    "\n",
    "%matplotlib inline\n"
   ]
  },
  {
   "cell_type": "code",
   "execution_count": null,
   "metadata": {
    "ExecuteTime": {
     "end_time": "2018-04-03T00:56:12.723071Z",
     "start_time": "2018-04-03T00:56:08.294Z"
    }
   },
   "outputs": [],
   "source": [
    "'''\n",
    "Read, Explore, and Process data\n",
    "'''\n",
    "\n",
    "# Read in the data\n",
    "titanic = pd.read_csv('../../data/titanic.csv')\n",
    "\n",
    "# Take a  selection of the variables\n",
    "d = titanic[['Survived', 'Pclass', 'Sex', 'Age', 'SibSp', 'Parch']]\n",
    "\n"
   ]
  },
  {
   "cell_type": "code",
   "execution_count": null,
   "metadata": {
    "ExecuteTime": {
     "end_time": "2018-04-03T00:56:12.724353Z",
     "start_time": "2018-04-03T00:56:08.297Z"
    }
   },
   "outputs": [],
   "source": [
    "# Check for missing values in all columns\n",
    "d.isnull().sum()\n",
    "d.groupby(['Sex', 'Pclass']).Age.apply(lambda x: x.isnull().sum()) / d.groupby(['Sex', 'Pclass']).Age.count()\n",
    "\n",
    "# Convert all variables to numeric so for scikit learn\n",
    "d['Sex'] = np.where(d.Sex == 'female', 1, 0)\n",
    "\n",
    "# Fill in missing values with the mean value (hint: use .fillna())\n",
    "d['Age'] = d['Age'].fillna(d['Age'].mean())\n",
    "\n",
    "# Explore the data to identify trends in characteristics of survivors\n",
    "d.Survived.value_counts()                    # How many people lived and died\n",
    "d.Survived.mean()                            # The survival rate for everyone\n",
    "d.groupby('Sex').Survived.mean()             # By Sex: women have higher survival rates\n",
    "d.groupby('Pclass').Survived.mean()          # By Pclass: 1st class passengers have higher survival rates\n",
    "d.groupby(['Sex', 'Pclass']).Survived.mean() # By Sex and Pclass: Women in the 1st and 2nd classes had the highest survival rates\n",
    "\n",
    "# Create a proxy variable representing whether the Spouse was on board\n",
    "d['Spouse'] = ((d.Age > 18) & (d.SibSp >= 1)).astype(int)\n",
    "d.Spouse.value_counts()\n",
    "d.groupby(['Pclass', 'Spouse']).Survived.mean() # Having a spouse appears to increase survival in the 1st class only\n",
    "\n",
    "\n"
   ]
  },
  {
   "cell_type": "code",
   "execution_count": null,
   "metadata": {
    "ExecuteTime": {
     "end_time": "2018-04-03T00:56:12.725470Z",
     "start_time": "2018-04-03T00:56:08.304Z"
    }
   },
   "outputs": [],
   "source": [
    "'''\n",
    "\n",
    "Split into training and test datasets, and build the model\n",
    "\n",
    "'''\n",
    "\n",
    "survived = d['Survived']\n",
    "del d['Survived']\n",
    "\n",
    "d\n"
   ]
  },
  {
   "cell_type": "code",
   "execution_count": null,
   "metadata": {
    "ExecuteTime": {
     "end_time": "2018-04-03T00:56:12.726619Z",
     "start_time": "2018-04-03T00:56:08.306Z"
    }
   },
   "outputs": [],
   "source": [
    "# Now, split the data into training and test sets\n",
    "X_train, X_test, y_train, y_test = train_test_split(d,survived, random_state=1)\n",
    "\n",
    "# Create a decision tree classifier instance (start out with a small tree for interpretability)\n",
    "ctree = tree.DecisionTreeClassifier(random_state=1, max_depth=2)\n",
    "\n",
    "# Fit the decision tree classifier\n",
    "ctree.fit(X_train, y_train)\n",
    "\n",
    "\n",
    "# Create a feature vector\n",
    "features = d.columns.tolist()\n",
    "\n",
    "features\n"
   ]
  },
  {
   "cell_type": "code",
   "execution_count": null,
   "metadata": {
    "ExecuteTime": {
     "end_time": "2018-04-03T00:56:12.727945Z",
     "start_time": "2018-04-03T00:56:08.313Z"
    }
   },
   "outputs": [],
   "source": [
    "X_train"
   ]
  },
  {
   "cell_type": "code",
   "execution_count": null,
   "metadata": {
    "ExecuteTime": {
     "end_time": "2018-04-03T00:56:12.729134Z",
     "start_time": "2018-04-03T00:56:08.315Z"
    }
   },
   "outputs": [],
   "source": [
    "# How to interpret the diagram?\n",
    "ctree.classes_\n"
   ]
  },
  {
   "cell_type": "code",
   "execution_count": null,
   "metadata": {
    "ExecuteTime": {
     "end_time": "2018-04-03T00:56:12.730360Z",
     "start_time": "2018-04-03T00:56:08.320Z"
    }
   },
   "outputs": [],
   "source": [
    "print(np.asarray([1, 1, 25, 0, 0, 0]).shape)\n",
    "print(np.asarray([1, 1, 25, 0, 0, 0]).reshape(-1, 1).shape)\n",
    "\n",
    "\n"
   ]
  },
  {
   "cell_type": "code",
   "execution_count": null,
   "metadata": {
    "ExecuteTime": {
     "end_time": "2018-04-03T00:56:12.731415Z",
     "start_time": "2018-04-03T00:56:08.324Z"
    }
   },
   "outputs": [],
   "source": [
    "# Predict what will happen for 1st class woman\n",
    "#features\n",
    "print('[Survived, Perished] = ', ctree.predict_proba(np.array([1, 1, 25, 0, 0, 0]).reshape(1, -1))[0])\n",
    "print('Survived: 1, Perished:0 | Prediction:',ctree.predict(np.array([1, 1, 25, 0, 0, 0]).reshape(1, -1))[0])"
   ]
  },
  {
   "cell_type": "code",
   "execution_count": null,
   "metadata": {
    "ExecuteTime": {
     "end_time": "2018-04-03T00:56:12.738081Z",
     "start_time": "2018-04-03T00:56:08.326Z"
    }
   },
   "outputs": [],
   "source": [
    "\n",
    "# Predict what will happen for a 3rd class man\n",
    "print('[Survived, Perished] = ', ctree.predict_proba(np.array([3, 1, 25, 0, 0, 0]).reshape(1, -1))[0])\n",
    "print('Survived: 1, Perished:0 | Prediction:',ctree.predict(np.array([3, 1, 25, 0, 0, 0]).reshape(1, -1))[0])\n"
   ]
  },
  {
   "cell_type": "code",
   "execution_count": null,
   "metadata": {
    "ExecuteTime": {
     "end_time": "2018-04-03T00:56:12.739759Z",
     "start_time": "2018-04-03T00:56:08.328Z"
    }
   },
   "outputs": [],
   "source": [
    "from io import StringIO\n",
    "out = StringIO()\n",
    "tree.export_graphviz(ctree, out_file = out)\n",
    "# OUTPUT DOT LANGUAGE SCRIPTS\n",
    "print( out.getvalue())\n",
    "\n",
    "\n",
    "\n",
    "\n"
   ]
  },
  {
   "cell_type": "code",
   "execution_count": null,
   "metadata": {
    "ExecuteTime": {
     "end_time": "2018-04-03T00:56:12.741307Z",
     "start_time": "2018-04-03T00:56:08.330Z"
    }
   },
   "outputs": [],
   "source": [
    "out.getvalue()"
   ]
  },
  {
   "cell_type": "code",
   "execution_count": null,
   "metadata": {
    "ExecuteTime": {
     "end_time": "2018-04-03T00:56:12.743173Z",
     "start_time": "2018-04-03T00:56:08.333Z"
    }
   },
   "outputs": [],
   "source": [
    "from sklearn.tree import export_graphviz\n",
    "export_graphviz(ctree, out_file='tree_vehicles.dot', feature_names=features)"
   ]
  },
  {
   "cell_type": "code",
   "execution_count": null,
   "metadata": {
    "ExecuteTime": {
     "end_time": "2018-04-03T00:56:12.744928Z",
     "start_time": "2018-04-03T00:56:08.336Z"
    }
   },
   "outputs": [],
   "source": [
    "from IPython.display import Image\n",
    "import pydot\n",
    "# make sure pydot and graphviz are installed \n",
    "# if problems see here:\n",
    "# http://stackoverflow.com/questions/15951748/pydot-and-graphviz-error-couldnt-import-dot-parser-loading-of-dot-files-will/17902926#17902926\n",
    "\n",
    "dot_data = StringIO()  \n",
    "tree.export_graphviz(\n",
    "    ctree, \n",
    "    out_file=dot_data,\n",
    "    feature_names=features,  \n",
    "    class_names=[\"died\",\"survived\"],  \n",
    "    filled=True, \n",
    "    rounded=True,  \n",
    "    special_characters=True\n",
    ")  \n",
    "graph = pydot.graph_from_dot_data(dot_data.getvalue())  \n",
    "#Image(graph.create_png())"
   ]
  },
  {
   "cell_type": "code",
   "execution_count": null,
   "metadata": {
    "ExecuteTime": {
     "end_time": "2018-04-03T00:56:12.746434Z",
     "start_time": "2018-04-03T00:56:08.340Z"
    }
   },
   "outputs": [],
   "source": [
    "# Which features are the most important?\n",
    "ctree.feature_importances_\n",
    "\n",
    "# Clean up the output\n",
    "feat_imps = pd.DataFrame(np.stack((features, ctree.feature_importances_), axis=1)).sort_values(by=1, ascending=False)\n",
    "feat_imps.columns = ['Feature', 'Importance']\n",
    "feat_imps"
   ]
  },
  {
   "cell_type": "code",
   "execution_count": null,
   "metadata": {
    "ExecuteTime": {
     "end_time": "2018-04-03T00:56:12.748689Z",
     "start_time": "2018-04-03T00:56:08.342Z"
    }
   },
   "outputs": [],
   "source": [
    "# Make predictions on the test set\n",
    "preds = ctree.predict(X_test)\n",
    "\n",
    "# Calculate accuracy\n",
    "metrics.accuracy_score(y_test, preds)\n",
    "\n",
    "# Confusion matrix\n",
    "pd.crosstab(y_test, preds, rownames=['actual'], colnames=['predicted'])\n",
    "\n",
    "# Make predictions on the test set using predict_proba\n",
    "probs = ctree.predict_proba(X_test)[:,1]\n",
    "\n",
    "# Calculate the AUC metric\n",
    "metrics.roc_auc_score(y_test, probs)\n",
    "\n",
    "# Decision Trees have notorouisly high variance, so what can we do\n",
    "# to better estimate the out of sample error of a high variance model?"
   ]
  },
  {
   "cell_type": "code",
   "execution_count": null,
   "metadata": {
    "ExecuteTime": {
     "end_time": "2018-04-03T00:56:12.750593Z",
     "start_time": "2018-04-03T00:56:08.345Z"
    }
   },
   "outputs": [],
   "source": [
    "from sklearn.linear_model import LogisticRegression\n",
    "logreg = LogisticRegression()\n",
    "ctree = tree.DecisionTreeClassifier(random_state=1, max_depth=2)\n",
    "\n",
    "# compare AUC using cross-validation\n",
    "from sklearn.cross_validation import cross_val_score\n",
    "cross_val_score(logreg, d, survived, cv=10, scoring='roc_auc').mean()\n",
    "cross_val_score(ctree, d, survived, cv=10, scoring='roc_auc').mean()\n",
    "\n",
    "\n",
    "# so far logistic regression is winning..\n",
    "\n",
    "'''\n",
    "\n",
    "FINE-TUNING THE TREE\n",
    "\n",
    "'''\n",
    "from sklearn.grid_search import GridSearchCV\n",
    "\n",
    "\n",
    "# check CV score for max depth = 3\n",
    "ctree = tree.DecisionTreeClassifier(max_depth=3)\n",
    "np.mean(cross_val_score(ctree, d, survived, cv=5, scoring='roc_auc'))\n",
    "\n",
    "# check CV score for max depth = 10\n",
    "ctree = tree.DecisionTreeClassifier(max_depth=10)\n",
    "np.mean(cross_val_score(ctree, d, survived, cv=5, scoring='roc_auc'))\n"
   ]
  },
  {
   "cell_type": "code",
   "execution_count": null,
   "metadata": {
    "ExecuteTime": {
     "end_time": "2018-04-03T00:56:12.752016Z",
     "start_time": "2018-04-03T00:56:08.347Z"
    }
   },
   "outputs": [],
   "source": [
    "\n",
    "# Conduct a grid search for the best tree depth\n",
    "ctree = tree.DecisionTreeClassifier(random_state=1)\n",
    "depth_range = np.arange(1, 20)\n",
    "param_grid = dict(max_depth=depth_range)\n",
    "grid = GridSearchCV(ctree, param_grid, cv=5, scoring='roc_auc')\n",
    "grid.fit(d, survived)\n",
    "\n"
   ]
  },
  {
   "cell_type": "code",
   "execution_count": null,
   "metadata": {
    "ExecuteTime": {
     "end_time": "2018-04-03T00:56:12.753332Z",
     "start_time": "2018-04-03T00:56:08.349Z"
    }
   },
   "outputs": [],
   "source": [
    "\n",
    "# Check out the scores of the grid search\n",
    "grid_mean_scores = [result[1] for result in grid.grid_scores_]\n",
    "\n",
    "\n",
    "# Plot the results of the grid search\n",
    "plt.figure()\n",
    "plt.plot(depth_range, grid_mean_scores)\n",
    "plt.grid(True)\n",
    "plt.plot(grid.best_params_['max_depth'], grid.best_score_, 'ro', markersize=12, markeredgewidth=1.5,\n",
    "         markerfacecolor='None', markeredgecolor='r')\n",
    "plt.title('Tree Depth vs RF Prediction Accuracy')\n",
    "plt.show()"
   ]
  },
  {
   "cell_type": "code",
   "execution_count": null,
   "metadata": {
    "ExecuteTime": {
     "end_time": "2018-04-03T00:56:12.754624Z",
     "start_time": "2018-04-03T00:56:08.352Z"
    }
   },
   "outputs": [],
   "source": [
    "\n",
    "# Get the best estimator\n",
    "best = grid.best_estimator_\n",
    "\n",
    "cross_val_score(best, d, survived, cv=10, scoring='roc_auc').mean()\n",
    "cross_val_score(logreg, d, survived, cv=10, scoring='roc_auc').mean()\n",
    "\n",
    "\n",
    "# Still not as good as Logistic Regression.. \n",
    "# Let's try something else\n",
    "\n",
    "\n",
    "\n",
    "### EXERCISE ###\n",
    "''' Use Grid Search try scan over three parameters\n",
    "1. max_depth:     from 1 to 20\n",
    "2. criterion:     (either 'gini' or 'entropy')\n",
    "3. max_features : range (1,5)\n",
    "\n",
    "'''\n"
   ]
  },
  {
   "cell_type": "markdown",
   "metadata": {},
   "source": [
    "### Regression"
   ]
  },
  {
   "cell_type": "code",
   "execution_count": null,
   "metadata": {
    "ExecuteTime": {
     "end_time": "2018-04-03T00:56:12.755959Z",
     "start_time": "2018-04-03T00:56:08.354Z"
    }
   },
   "outputs": [],
   "source": [
    "# Decision trees (like many other classification models)\n",
    "# can also be used for regression!\n",
    "\n",
    "\n",
    "drinks = pd.read_csv('../../data/drinks.csv', na_filter=False)\n",
    "\n",
    "drinks\n",
    "\n",
    "# Make dummy columns for each of the 6 regions\n",
    "for continent_ in ['AS', 'NA', 'EU', 'AF', 'SA', 'OC']:\n",
    "    drinks[continent_] = drinks['continent'] == continent_\n",
    "\n",
    "drinks\n",
    "\n",
    "\n",
    "del drinks['continent']\n",
    "del drinks['country']\n",
    "del drinks['total_litres_of_pure_alcohol'] # this doesn't seem fair does it?\n",
    "\n",
    "X = drinks.drop('wine_servings', axis=1)\n",
    "y = drinks['wine_servings']\n",
    "\n",
    "X_train, X_test, y_train, y_test = train_test_split(X, y, random_state = 1)\n",
    "\n",
    "\n",
    "rtree = tree.DecisionTreeRegressor()\n",
    "\n",
    "rtree.fit(X_train, y_train)\n",
    "rtree.predict(X_test)\n",
    "\n",
    "scores = cross_val_score(rtree, X, y, cv=10, scoring='neg_mean_squared_error')\n",
    "mse_scores = -scores\n",
    "mse_scores\n",
    "rmse_scores = np.sqrt(mse_scores)\n",
    "rmse_scores\n",
    "rmse_scores.mean()\n",
    "\n",
    "wine_mean = y.mean()\n",
    "wine_mean\n",
    "\n",
    "features = X.columns\n",
    "\n",
    "pd.DataFrame(np.stack((features, rtree.feature_importances_), axis=1)).sort_values(by=1, ascending=False)\n"
   ]
  },
  {
   "cell_type": "code",
   "execution_count": null,
   "metadata": {},
   "outputs": [],
   "source": []
  },
  {
   "cell_type": "code",
   "execution_count": null,
   "metadata": {},
   "outputs": [],
   "source": []
  }
 ],
 "metadata": {
  "kernelspec": {
   "display_name": "Python [default]",
   "language": "python",
   "name": "python3"
  },
  "language_info": {
   "codemirror_mode": {
    "name": "ipython",
    "version": 3
   },
   "file_extension": ".py",
   "mimetype": "text/x-python",
   "name": "python",
   "nbconvert_exporter": "python",
   "pygments_lexer": "ipython3",
   "version": "3.6.4"
  },
  "toc": {
   "nav_menu": {},
   "number_sections": true,
   "sideBar": true,
   "skip_h1_title": true,
   "title_cell": "Table of Contents",
   "title_sidebar": "Contents",
   "toc_cell": true,
   "toc_position": {},
   "toc_section_display": true,
   "toc_window_display": false
  }
 },
 "nbformat": 4,
 "nbformat_minor": 1
}
